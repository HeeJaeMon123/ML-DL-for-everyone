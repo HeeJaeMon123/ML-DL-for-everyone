{
  "nbformat": 4,
  "nbformat_minor": 0,
  "metadata": {
    "colab": {
      "name": "logistic_regression.ipynb",
      "provenance": []
    },
    "kernelspec": {
      "name": "python3",
      "display_name": "Python 3"
    },
    "language_info": {
      "name": "python"
    }
  },
  "cells": [
    {
      "cell_type": "code",
      "metadata": {
        "colab": {
          "base_uri": "https://localhost:8080/"
        },
        "id": "71j5q5CJuDXZ",
        "outputId": "1865088a-a9ff-4262-f4b3-d6cf6a576d74"
      },
      "source": [
        "import torch\n",
        "import torch.nn as nn\n",
        "import torch.nn.functional as F\n",
        "\n",
        "torch.manual_seed(1)\n",
        "\n",
        "x_data = [[1, 2], [2, 3], [3, 1], [4, 3], [5, 3], [6, 2]]\n",
        "y_data = [[0], [0], [0], [1], [1], [1]]\n",
        "x_train = torch.FloatTensor(x_data)\n",
        "y_train = torch.FloatTensor(y_data)\n",
        "\n",
        "class BinaryClassifier(nn.Module):\n",
        "  def __init__(self):\n",
        "    super().__init__()\n",
        "    self.linear = nn.Linear(2,1)\n",
        "    self.sigmoid = nn.Sigmoid()\n",
        "\n",
        "  def forward(self, x):\n",
        "    return self.sigmoid(self.linear(x))\n",
        "\n",
        "model = BinaryClassifier()\n",
        "\n",
        "optimizer = torch.optim.SGD(model.parameters(), lr = 1)\n",
        "\n",
        "ep = 100\n",
        "for epoch in range(ep+1):\n",
        "  # print(1)\n",
        "  hypothesis = model(x_train)\n",
        "\n",
        "  cost = F.binary_cross_entropy(hypothesis, y_train)\n",
        "\n",
        "  optimizer.zero_grad()\n",
        "  cost.backward()\n",
        "  optimizer.step()\n",
        "\n",
        "  if epoch % 10 ==0:\n",
        "    prediction = hypothesis >= torch.FloatTensor([0.5])\n",
        "    correct = prediction.float() == y_train\n",
        "    acc = correct.sum()/len(correct)\n",
        "    print(f'epoch: {epoch}/{ep}  cost: {cost.item():.4f}')"
      ],
      "execution_count": 5,
      "outputs": [
        {
          "output_type": "stream",
          "text": [
            "epoch: 0/100  cost: 0.5397\n",
            "epoch: 10/100  cost: 0.6149\n",
            "epoch: 20/100  cost: 0.4419\n",
            "epoch: 30/100  cost: 0.3731\n",
            "epoch: 40/100  cost: 0.3164\n",
            "epoch: 50/100  cost: 0.2661\n",
            "epoch: 60/100  cost: 0.2205\n",
            "epoch: 70/100  cost: 0.1821\n",
            "epoch: 80/100  cost: 0.1573\n",
            "epoch: 90/100  cost: 0.1441\n",
            "epoch: 100/100  cost: 0.1343\n"
          ],
          "name": "stdout"
        }
      ]
    },
    {
      "cell_type": "code",
      "metadata": {
        "id": "hCXJpDkouZWL"
      },
      "source": [
        ""
      ],
      "execution_count": null,
      "outputs": []
    }
  ]
}
