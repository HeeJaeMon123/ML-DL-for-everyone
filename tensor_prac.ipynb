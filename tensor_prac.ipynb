{
  "nbformat": 4,
  "nbformat_minor": 0,
  "metadata": {
    "colab": {
      "name": "tensor_prac.ipynb",
      "provenance": [],
      "collapsed_sections": []
    },
    "kernelspec": {
      "name": "python3",
      "display_name": "Python 3"
    },
    "language_info": {
      "name": "python"
    }
  },
  "cells": [
    {
      "cell_type": "code",
      "metadata": {
        "colab": {
          "base_uri": "https://localhost:8080/"
        },
        "id": "TNZaKWDwtZ02",
        "outputId": "7933da4d-b258-4fa5-b53c-6a2cc5193b34"
      },
      "source": [
        "import numpy as np\n",
        "l = [1,2,3]\n",
        "array = np.array(l)\n",
        "\n",
        "print(array)\n",
        "print(array.size)\n",
        "print(array.dtype)\n",
        "print(array[2])"
      ],
      "execution_count": null,
      "outputs": [
        {
          "output_type": "stream",
          "text": [
            "[1 2 3]\n",
            "3\n",
            "int64\n",
            "3\n"
          ],
          "name": "stdout"
        }
      ]
    },
    {
      "cell_type": "code",
      "metadata": {
        "colab": {
          "base_uri": "https://localhost:8080/"
        },
        "id": "UYTS-gHW5ref",
        "outputId": "4e32710e-7682-4fae-8834-f7646ce16303"
      },
      "source": [
        "# 0부터 3까지의 배열 만들기\n",
        "arr = np.arange(4)\n",
        "print(arr)\n",
        "\n",
        "# 1부터 3까지의 배열 만들기\n",
        "arr = np.arange(1,4)\n",
        "print(arr)\n",
        "\n",
        "#0으로 초기화\n",
        "arr2 = np.zeros((4,4), dtype=float)\n",
        "print(arr2)\n",
        "\n",
        "# 1로 초기화, 문자열도 가능\n",
        "arr3 = np.ones((3,3), dtype=str)\n",
        "print(arr3)\n",
        "\n",
        "#0부터 9까지 랜덤하게 초기화된 배열 만들기\n",
        "arr4 = np.random.randint(0,10,(3,3))\n",
        "print(arr4)\n",
        "\n",
        "#평균이 0이고, 표준편차가 1인 표준 정규를 띄는 배열\n",
        "arr5 = np.random.normal(0,1, (3,3))\n",
        "print(arr5)"
      ],
      "execution_count": null,
      "outputs": [
        {
          "output_type": "stream",
          "text": [
            "[0 1 2 3]\n",
            "[1 2 3]\n",
            "[[0. 0. 0. 0.]\n",
            " [0. 0. 0. 0.]\n",
            " [0. 0. 0. 0.]\n",
            " [0. 0. 0. 0.]]\n",
            "[['1' '1' '1']\n",
            " ['1' '1' '1']\n",
            " ['1' '1' '1']]\n",
            "[[5 1 0]\n",
            " [3 0 8]\n",
            " [4 9 8]]\n",
            "[[-0.60384415 -0.72076449  0.65299405]\n",
            " [-0.12879155  0.52771575 -0.7546787 ]\n",
            " [-0.17120311  0.65473393 -0.68268341]]\n"
          ],
          "name": "stdout"
        }
      ]
    },
    {
      "cell_type": "code",
      "metadata": {
        "colab": {
          "base_uri": "https://localhost:8080/"
        },
        "id": "TvOKOc-D6CtY",
        "outputId": "52b19289-ab20-4688-d0a8-003555bd79e7"
      },
      "source": [
        "#배열 합치기\n",
        "import numpy as np\n",
        "arr1 = np.array([1,2,3])\n",
        "arr2 = np.array([4,5,6])\n",
        "arr3 = np.concatenate([arr1, arr2])\n",
        "print(arr3.shape)\n",
        "print(arr3)\n",
        "print(arr1+arr2)\n",
        "print(arr3+1)"
      ],
      "execution_count": 3,
      "outputs": [
        {
          "output_type": "stream",
          "text": [
            "(6,)\n",
            "[1 2 3 4 5 6]\n",
            "[5 7 9]\n",
            "[2 3 4 5 6 7]\n"
          ],
          "name": "stdout"
        }
      ]
    },
    {
      "cell_type": "code",
      "metadata": {
        "colab": {
          "base_uri": "https://localhost:8080/"
        },
        "id": "Pb4bVCDi8wka",
        "outputId": "84179dea-2f9d-4722-a09f-5c3b21f69cf4"
      },
      "source": [
        "# 배열 형태 바꾸기  ###중요###\n",
        "arr1 = np.array([1,2,3,4])\n",
        "arr2 = arr1.reshape((-1,2))\n",
        "arr2\n"
      ],
      "execution_count": null,
      "outputs": [
        {
          "output_type": "execute_result",
          "data": {
            "text/plain": [
              "array([[1, 2],\n",
              "       [3, 4]])"
            ]
          },
          "metadata": {
            "tags": []
          },
          "execution_count": 20
        }
      ]
    },
    {
      "cell_type": "code",
      "metadata": {
        "colab": {
          "base_uri": "https://localhost:8080/"
        },
        "id": "t9WBjFIH9E_I",
        "outputId": "9c23a55d-315b-4140-a717-31a783eb2a49"
      },
      "source": [
        "arr1 = np.arange(4).reshape(1,4)\n",
        "arr2 = np.arange(8).reshape(2,4)\n",
        "\n",
        "\n",
        "# arr3 = np.vstack([arr1,arr2])\n",
        "arr3 = np.concatenate([arr2,arr1],axis=0)\n",
        "print(arr3)"
      ],
      "execution_count": null,
      "outputs": [
        {
          "output_type": "stream",
          "text": [
            "[[0 1 2 3]\n",
            " [4 5 6 7]\n",
            " [0 1 2 3]]\n"
          ],
          "name": "stdout"
        }
      ]
    },
    {
      "cell_type": "code",
      "metadata": {
        "colab": {
          "base_uri": "https://localhost:8080/"
        },
        "id": "6jV5kOPQ9ypw",
        "outputId": "311f9d0a-ffd0-464a-a28d-fcf2bb2810ef"
      },
      "source": [
        "#배열 나누기\n",
        "arr = np.arange(8).reshape(2,4)\n",
        "# left, right = np.split(arr, [1], axis=0)\n",
        "left, right = np.split(arr, [2], axis=1)\n",
        "print(left.shape)\n",
        "print(right.shape)\n",
        "print(arr)\n",
        "print(left)\n",
        "print(right)"
      ],
      "execution_count": null,
      "outputs": [
        {
          "output_type": "stream",
          "text": [
            "(2, 2)\n",
            "(2, 2)\n",
            "[[0 1 2 3]\n",
            " [4 5 6 7]]\n",
            "[[0 1]\n",
            " [4 5]]\n",
            "[[2 3]\n",
            " [6 7]]\n"
          ],
          "name": "stdout"
        }
      ]
    },
    {
      "cell_type": "code",
      "metadata": {
        "colab": {
          "base_uri": "https://localhost:8080/"
        },
        "id": "Q-CigSz-_V2l",
        "outputId": "f05c9849-f3a3-449d-db47-bae4f0d7c535"
      },
      "source": [
        "#기본연산\n",
        "arr = np.random.randint(1,10, size=4).reshape(2,2)\n",
        "print(arr)\n",
        "result= arr*10\n",
        "print(result)"
      ],
      "execution_count": null,
      "outputs": [
        {
          "output_type": "stream",
          "text": [
            "[[3 4]\n",
            " [2 1]]\n",
            "[[30 40]\n",
            " [20 10]]\n"
          ],
          "name": "stdout"
        }
      ]
    },
    {
      "cell_type": "code",
      "metadata": {
        "colab": {
          "base_uri": "https://localhost:8080/"
        },
        "id": "YCTV1o_FB623",
        "outputId": "080143f4-ee74-4a18-d9b0-86a533ca9920"
      },
      "source": [
        "arr1 = np.arange(4).reshape(2,2)\n",
        "arr2 = np.arange(2)\n",
        "arr3 = arr1+arr2\n",
        "print(arr3)"
      ],
      "execution_count": null,
      "outputs": [
        {
          "output_type": "stream",
          "text": [
            "[[0 2]\n",
            " [2 4]]\n"
          ],
          "name": "stdout"
        }
      ]
    },
    {
      "cell_type": "code",
      "metadata": {
        "colab": {
          "base_uri": "https://localhost:8080/"
        },
        "id": "znh_Ks9wCujY",
        "outputId": "52aab675-7ce1-4ac0-84d7-644bdf32c0af"
      },
      "source": [
        "arr1 = np.arange(8).reshape(2,4)\n",
        "arr2 = np.arange(8).reshape(2,4)\n",
        "arr3 = np.concatenate([arr1,arr2],axis=0)\n",
        "arr4 = np.arange(4).reshape(1,4)\n",
        "\n",
        "print(arr3+arr4)"
      ],
      "execution_count": null,
      "outputs": [
        {
          "output_type": "stream",
          "text": [
            "[[ 0  2  4  6]\n",
            " [ 4  6  8 10]\n",
            " [ 0  2  4  6]\n",
            " [ 4  6  8 10]]\n"
          ],
          "name": "stdout"
        }
      ]
    },
    {
      "cell_type": "code",
      "metadata": {
        "colab": {
          "base_uri": "https://localhost:8080/"
        },
        "id": "pu2iIMRiEmfo",
        "outputId": "9dfb0a11-1d2d-44b3-d4a1-2ede1b009c94"
      },
      "source": [
        "#마스킹 연산\n",
        "arr1 = np.arange(16).reshape(4,4)\n",
        "arr2 = arr1<10\n",
        "print(arr2)\n",
        "\n",
        "#10보다 작은 원소만 선택해서 100으로만듦\n",
        "arr1[arr2] = 100\n",
        "print(arr1)\n",
        "\n",
        "arr1 = np.arange(16).reshape(4,4)\n",
        "arr1[arr1>10] = 100\n",
        "print(arr1)"
      ],
      "execution_count": null,
      "outputs": [
        {
          "output_type": "stream",
          "text": [
            "[[ True  True  True  True]\n",
            " [ True  True  True  True]\n",
            " [ True  True False False]\n",
            " [False False False False]]\n",
            "[[100 100 100 100]\n",
            " [100 100 100 100]\n",
            " [100 100  10  11]\n",
            " [ 12  13  14  15]]\n",
            "[[  0   1   2   3]\n",
            " [  4   5   6   7]\n",
            " [  8   9  10 100]\n",
            " [100 100 100 100]]\n"
          ],
          "name": "stdout"
        }
      ]
    },
    {
      "cell_type": "code",
      "metadata": {
        "colab": {
          "base_uri": "https://localhost:8080/"
        },
        "id": "mtmfBOFNHFFS",
        "outputId": "fd9618ad-0708-47a0-98e6-cf034ffd73d9"
      },
      "source": [
        "arr = np.arange(16).reshape(-1,4)\n",
        "print(f'max : {np.max(arr)}')\n",
        "print(f'min : {np.min(arr)}')\n",
        "print(f'mean : {np.mean(arr)}')\n",
        "print(f'sum : {np.sum(arr)}')\n",
        " \n",
        "#각열에 대해서 모든 행의 원소를 더함\n",
        "print(arr)\n",
        "print(np.sum(arr,axis=0))"
      ],
      "execution_count": null,
      "outputs": [
        {
          "output_type": "stream",
          "text": [
            "max : 15\n",
            "min : 0\n",
            "mean : 7.5\n",
            "sum : 120\n",
            "[[ 0  1  2  3]\n",
            " [ 4  5  6  7]\n",
            " [ 8  9 10 11]\n",
            " [12 13 14 15]]\n",
            "[24 28 32 36]\n"
          ],
          "name": "stdout"
        }
      ]
    },
    {
      "cell_type": "code",
      "metadata": {
        "id": "KMVse8M-I_-M"
      },
      "source": [
        "#단일 객체 저장 및 불러오기\n",
        "arr = np.arange(10)\n",
        "np.save('saved.npy',arr)"
      ],
      "execution_count": null,
      "outputs": []
    },
    {
      "cell_type": "code",
      "metadata": {
        "id": "vct85qjXULWK"
      },
      "source": [
        "result = np.load('saved.npy')"
      ],
      "execution_count": null,
      "outputs": []
    },
    {
      "cell_type": "code",
      "metadata": {
        "colab": {
          "base_uri": "https://localhost:8080/"
        },
        "id": "lYR_DuS8URsy",
        "outputId": "a3eed3ef-4d28-4233-945e-af07357fd66f"
      },
      "source": [
        "result"
      ],
      "execution_count": null,
      "outputs": [
        {
          "output_type": "execute_result",
          "data": {
            "text/plain": [
              "array([0, 1, 2, 3, 4, 5, 6, 7, 8, 9])"
            ]
          },
          "metadata": {
            "tags": []
          },
          "execution_count": 54
        }
      ]
    },
    {
      "cell_type": "code",
      "metadata": {
        "id": "gJfDJEC-USyB"
      },
      "source": [
        "#복수 객체 저장 및 불러오기\n",
        "arr1 = np.arange(10)\n",
        "arr2 = np.arange(10,20)\n",
        "np.savez('saved.npz',array1=arr1,array2=arr2)"
      ],
      "execution_count": null,
      "outputs": []
    },
    {
      "cell_type": "code",
      "metadata": {
        "id": "p681arpYXu5V"
      },
      "source": [
        "result = np.load('saved.npz')\n",
        "r1 = result['array1']\n",
        "r2 = result['array2']"
      ],
      "execution_count": null,
      "outputs": []
    },
    {
      "cell_type": "code",
      "metadata": {
        "colab": {
          "base_uri": "https://localhost:8080/"
        },
        "id": "LbXnKh8mYwk0",
        "outputId": "75c5da25-27b9-4023-f56f-7b6e25aefae7"
      },
      "source": [
        "r1"
      ],
      "execution_count": null,
      "outputs": [
        {
          "output_type": "execute_result",
          "data": {
            "text/plain": [
              "array([0, 1, 2, 3, 4, 5, 6, 7, 8, 9])"
            ]
          },
          "metadata": {
            "tags": []
          },
          "execution_count": 63
        }
      ]
    },
    {
      "cell_type": "code",
      "metadata": {
        "colab": {
          "base_uri": "https://localhost:8080/"
        },
        "id": "cfuZRjZMY2rC",
        "outputId": "05bbaae5-1a6d-4bc5-ecf2-12a2c3b8ee3b"
      },
      "source": [
        "#오름차순\n",
        "arr = np.array([5,9,10,3,1])\n",
        "arr.sort()\n",
        "print(arr)\n",
        "\n",
        "#내림차순\n",
        "arr = np.array([5,9,10,3,1])\n",
        "arr.sort()\n",
        "print(arr[::-1])"
      ],
      "execution_count": null,
      "outputs": [
        {
          "output_type": "stream",
          "text": [
            "[ 1  3  5  9 10]\n",
            "[10  9  5  3  1]\n",
            "[ 1  3  5  9 10]\n"
          ],
          "name": "stdout"
        }
      ]
    },
    {
      "cell_type": "code",
      "metadata": {
        "id": "VjUt9V48aI7b"
      },
      "source": [
        "import numpy as np\n",
        "import torch"
      ],
      "execution_count": 4,
      "outputs": []
    },
    {
      "cell_type": "code",
      "metadata": {
        "colab": {
          "base_uri": "https://localhost:8080/"
        },
        "id": "or2niLikRa5N",
        "outputId": "2551c12a-4f59-4a14-96fb-5f92c7d098e8"
      },
      "source": [
        "t = np.array([0,1,2,3,4,5,6],dtype=float)\n",
        "print(t)"
      ],
      "execution_count": 6,
      "outputs": [
        {
          "output_type": "stream",
          "text": [
            "[0. 1. 2. 3. 4. 5. 6.]\n"
          ],
          "name": "stdout"
        }
      ]
    },
    {
      "cell_type": "code",
      "metadata": {
        "colab": {
          "base_uri": "https://localhost:8080/"
        },
        "id": "Twj31aFSR0SE",
        "outputId": "ee21a022-59ea-4aa5-c5ea-5c45c7ee134c"
      },
      "source": [
        "print(t.ndim, t.shape)"
      ],
      "execution_count": 8,
      "outputs": [
        {
          "output_type": "stream",
          "text": [
            "1 (7,)\n"
          ],
          "name": "stdout"
        }
      ]
    },
    {
      "cell_type": "code",
      "metadata": {
        "colab": {
          "base_uri": "https://localhost:8080/"
        },
        "id": "iej3ZIQtR4dU",
        "outputId": "77587f00-4eaa-4a1a-aad9-5fe5f9efdb93"
      },
      "source": [
        "print(t[0], t[-1])\n",
        "print(t[2:5], t[4:-1], t[:2])"
      ],
      "execution_count": 14,
      "outputs": [
        {
          "output_type": "stream",
          "text": [
            "0.0 6.0\n",
            "[2. 3. 4.] [4. 5.] [0. 1.]\n"
          ],
          "name": "stdout"
        }
      ]
    },
    {
      "cell_type": "code",
      "metadata": {
        "id": "AefvKWa3SQhM"
      },
      "source": [
        "t = np.arange(1,13,dtype=float).reshape(-1,3)"
      ],
      "execution_count": 18,
      "outputs": []
    },
    {
      "cell_type": "code",
      "metadata": {
        "colab": {
          "base_uri": "https://localhost:8080/"
        },
        "id": "_N50NeU7SoPc",
        "outputId": "40a4bf21-ec4d-454a-9f57-6dcb8930b378"
      },
      "source": [
        "t"
      ],
      "execution_count": 19,
      "outputs": [
        {
          "output_type": "execute_result",
          "data": {
            "text/plain": [
              "array([[ 1.,  2.,  3.],\n",
              "       [ 4.,  5.,  6.],\n",
              "       [ 7.,  8.,  9.],\n",
              "       [10., 11., 12.]])"
            ]
          },
          "metadata": {
            "tags": []
          },
          "execution_count": 19
        }
      ]
    },
    {
      "cell_type": "code",
      "metadata": {
        "colab": {
          "base_uri": "https://localhost:8080/"
        },
        "id": "CKYYfsawSpcM",
        "outputId": "c3a92ca7-62e7-4d3e-a8bd-a8394db8ab83"
      },
      "source": [
        "# torch 형태로\n",
        "t = torch.FloatTensor([0,1,2,3,4,5,6])\n",
        "t"
      ],
      "execution_count": 23,
      "outputs": [
        {
          "output_type": "execute_result",
          "data": {
            "text/plain": [
              "tensor([0., 1., 2., 3., 4., 5., 6.])"
            ]
          },
          "metadata": {
            "tags": []
          },
          "execution_count": 23
        }
      ]
    },
    {
      "cell_type": "code",
      "metadata": {
        "colab": {
          "base_uri": "https://localhost:8080/"
        },
        "id": "OusCz3aGTQVt",
        "outputId": "de6fd6c8-c138-4a37-f560-296078d4d698"
      },
      "source": [
        "print(t.dim())\n",
        "print(t.shape)\n",
        "print(t.size())\n",
        "print(t[-2])"
      ],
      "execution_count": 24,
      "outputs": [
        {
          "output_type": "stream",
          "text": [
            "1\n",
            "torch.Size([7])\n",
            "torch.Size([7])\n",
            "tensor(5.)\n"
          ],
          "name": "stdout"
        }
      ]
    },
    {
      "cell_type": "code",
      "metadata": {
        "colab": {
          "base_uri": "https://localhost:8080/"
        },
        "id": "ZkfCzOzkUB50",
        "outputId": "3512d823-288f-42e7-83ad-c477d2f09f04"
      },
      "source": [
        "t = torch.FloatTensor([[1,2,3],\n",
        "                       [4,5,5],\n",
        "                       [7,8,9],\n",
        "                       [10,11,12]])\n",
        "print(t)"
      ],
      "execution_count": 26,
      "outputs": [
        {
          "output_type": "stream",
          "text": [
            "tensor([[ 1.,  2.,  3.],\n",
            "        [ 4.,  5.,  5.],\n",
            "        [ 7.,  8.,  9.],\n",
            "        [10., 11., 12.]])\n"
          ],
          "name": "stdout"
        }
      ]
    },
    {
      "cell_type": "code",
      "metadata": {
        "colab": {
          "base_uri": "https://localhost:8080/"
        },
        "id": "6nfrKDoZU1js",
        "outputId": "b929015b-3df0-46ac-c703-ce31e8b2503f"
      },
      "source": [
        "print(t.dim())\n",
        "print(t.size())\n",
        "print(t[:, 1])\n",
        "print(t[:, 1].size())\n",
        "print(t[:, :-1]) #마지막 줄 빼고 모두 가져오기"
      ],
      "execution_count": 30,
      "outputs": [
        {
          "output_type": "stream",
          "text": [
            "2\n",
            "torch.Size([4, 3])\n",
            "tensor([ 2.,  5.,  8., 11.])\n",
            "torch.Size([4])\n",
            "tensor([[ 1.,  2.],\n",
            "        [ 4.,  5.],\n",
            "        [ 7.,  8.],\n",
            "        [10., 11.]])\n"
          ],
          "name": "stdout"
        }
      ]
    },
    {
      "cell_type": "code",
      "metadata": {
        "colab": {
          "base_uri": "https://localhost:8080/"
        },
        "id": "IzSOxnTYVnHg",
        "outputId": "2e228f6b-c6b6-4887-9679-363da89a11b7"
      },
      "source": [
        "print(t+3)"
      ],
      "execution_count": 31,
      "outputs": [
        {
          "output_type": "stream",
          "text": [
            "tensor([[ 4.,  5.,  6.],\n",
            "        [ 7.,  8.,  8.],\n",
            "        [10., 11., 12.],\n",
            "        [13., 14., 15.]])\n"
          ],
          "name": "stdout"
        }
      ]
    },
    {
      "cell_type": "code",
      "metadata": {
        "colab": {
          "base_uri": "https://localhost:8080/"
        },
        "id": "cXRZzjidU8qj",
        "outputId": "49cf6dc1-a1fd-4945-e7c8-52690a9a5368"
      },
      "source": [
        "print('-'*30)\n",
        "print('matmul')\n",
        "print('-'*30)\n",
        "m1 = torch.FloatTensor([[1,2],[3,4]])\n",
        "m2 = torch.FloatTensor([[1],[2]])\n",
        "print(m1.matmul(m2))\n",
        "# print(m2.matmul(m1)) #error\n",
        "print()\n",
        "print('-'*30)\n",
        "print('mul')\n",
        "print('-'*30)\n",
        "print(m1.mul(m2))\n",
        "print(m2.mul(m1))"
      ],
      "execution_count": 38,
      "outputs": [
        {
          "output_type": "stream",
          "text": [
            "------------------------------\n",
            "matmul\n",
            "------------------------------\n",
            "tensor([[ 5.],\n",
            "        [11.]])\n",
            "\n",
            "------------------------------\n",
            "mul\n",
            "------------------------------\n",
            "tensor([[1., 2.],\n",
            "        [6., 8.]])\n",
            "tensor([[1., 2.],\n",
            "        [6., 8.]])\n"
          ],
          "name": "stdout"
        }
      ]
    },
    {
      "cell_type": "code",
      "metadata": {
        "colab": {
          "base_uri": "https://localhost:8080/"
        },
        "id": "8xJxV6NZZID1",
        "outputId": "a4a5ea79-bcf2-418e-b992-1a03866acf39"
      },
      "source": [
        "t = torch.FloatTensor([1,2])\n",
        "t.mean()"
      ],
      "execution_count": 39,
      "outputs": [
        {
          "output_type": "execute_result",
          "data": {
            "text/plain": [
              "tensor(1.5000)"
            ]
          },
          "metadata": {
            "tags": []
          },
          "execution_count": 39
        }
      ]
    },
    {
      "cell_type": "code",
      "metadata": {
        "colab": {
          "base_uri": "https://localhost:8080/"
        },
        "id": "Rm3MLFewaqHd",
        "outputId": "fe1ebf08-99cf-4693-d43a-977e7ca4b8d5"
      },
      "source": [
        "# integer에는 mean 사용불가\n",
        "t = torch.LongTensor([1,2])\n",
        "try:\n",
        "  print(t.mean())\n",
        "except Exception as exc:\n",
        "  print(exc)"
      ],
      "execution_count": 40,
      "outputs": [
        {
          "output_type": "stream",
          "text": [
            "Can only calculate the mean of floating types. Got Long instead.\n"
          ],
          "name": "stdout"
        }
      ]
    },
    {
      "cell_type": "code",
      "metadata": {
        "colab": {
          "base_uri": "https://localhost:8080/"
        },
        "id": "J5SGN8N0a5M1",
        "outputId": "18ae79fb-9db7-4048-f3e4-823193406745"
      },
      "source": [
        "t = torch.FloatTensor([[1,2],[3,4]])\n",
        "print(t)"
      ],
      "execution_count": 42,
      "outputs": [
        {
          "output_type": "stream",
          "text": [
            "tensor([[1., 2.],\n",
            "        [3., 4.]])\n"
          ],
          "name": "stdout"
        }
      ]
    },
    {
      "cell_type": "code",
      "metadata": {
        "colab": {
          "base_uri": "https://localhost:8080/"
        },
        "id": "mQCa-EOua9rF",
        "outputId": "f5f62b5f-6498-4cb8-a6f5-d66ca8511c9b"
      },
      "source": [
        "print(t.mean(dim=0))\n",
        "print(t.mean(dim=1))\n",
        "print(t.mean(dim=-1))"
      ],
      "execution_count": 45,
      "outputs": [
        {
          "output_type": "stream",
          "text": [
            "tensor([2., 3.])\n",
            "tensor([1.5000, 3.5000])\n",
            "tensor([1.5000, 3.5000])\n"
          ],
          "name": "stdout"
        }
      ]
    },
    {
      "cell_type": "code",
      "metadata": {
        "colab": {
          "base_uri": "https://localhost:8080/"
        },
        "id": "bgUw5E6abEvF",
        "outputId": "d6350f9d-f264-4fe1-c007-2b3446819ba4"
      },
      "source": [
        "print(t.sum())\n",
        "print(t.sum(dim=0))"
      ],
      "execution_count": 46,
      "outputs": [
        {
          "output_type": "stream",
          "text": [
            "tensor(10.)\n",
            "tensor([4., 6.])\n"
          ],
          "name": "stdout"
        }
      ]
    },
    {
      "cell_type": "code",
      "metadata": {
        "colab": {
          "base_uri": "https://localhost:8080/"
        },
        "id": "7zi2Q1_cbaPk",
        "outputId": "f9d5ebd8-d74d-4eee-d859-7ff6f6f66808"
      },
      "source": [
        "t = torch.FloatTensor([[1,2],[3,4],[5,3]])\n",
        "print(t)\n",
        "\n",
        "print(t.max()) \n",
        "\n",
        "print(t.max(dim=0))\n",
        "print(t.max(dim=0)[0])\n",
        "\n",
        "print(t.max(dim=1))\n",
        "print(t.max(dim=1)[0])"
      ],
      "execution_count": 51,
      "outputs": [
        {
          "output_type": "stream",
          "text": [
            "tensor([[1., 2.],\n",
            "        [3., 4.],\n",
            "        [5., 3.]])\n",
            "tensor(5.)\n",
            "torch.return_types.max(\n",
            "values=tensor([5., 4.]),\n",
            "indices=tensor([2, 1]))\n",
            "tensor([5., 4.])\n",
            "torch.return_types.max(\n",
            "values=tensor([2., 4., 5.]),\n",
            "indices=tensor([1, 1, 0]))\n",
            "tensor([2., 4., 5.])\n"
          ],
          "name": "stdout"
        }
      ]
    },
    {
      "cell_type": "code",
      "metadata": {
        "colab": {
          "base_uri": "https://localhost:8080/"
        },
        "id": "Udp0UOp4fJ_V",
        "outputId": "25d51974-236c-4f37-d0d1-05f08057ef11"
      },
      "source": [
        "t = torch.FloatTensor([[[1,2,10],\n",
        "                        [24,5,6],\n",
        "                        [1,2,3]],\n",
        "                       [[17,8,9],\n",
        "                        [10,11,12],\n",
        "                        [50,0,1]]])\n",
        "print(t)"
      ],
      "execution_count": 89,
      "outputs": [
        {
          "output_type": "stream",
          "text": [
            "tensor([[[ 1.,  2., 10.],\n",
            "         [24.,  5.,  6.],\n",
            "         [ 1.,  2.,  3.]],\n",
            "\n",
            "        [[17.,  8.,  9.],\n",
            "         [10., 11., 12.],\n",
            "         [50.,  0.,  1.]]])\n"
          ],
          "name": "stdout"
        }
      ]
    },
    {
      "cell_type": "code",
      "metadata": {
        "colab": {
          "base_uri": "https://localhost:8080/"
        },
        "id": "h5FJZhOugB51",
        "outputId": "b79533ce-d935-485c-b290-dfb82d5e58f4"
      },
      "source": [
        "print(t.max())"
      ],
      "execution_count": 92,
      "outputs": [
        {
          "output_type": "stream",
          "text": [
            "tensor(50.)\n"
          ],
          "name": "stdout"
        }
      ]
    },
    {
      "cell_type": "code",
      "metadata": {
        "colab": {
          "base_uri": "https://localhost:8080/"
        },
        "id": "VxblOX0BgJLl",
        "outputId": "d6cfcb63-fc0e-4d67-9161-dd98963aa770"
      },
      "source": [
        "\n",
        "print(t.max(dim=2)[0])"
      ],
      "execution_count": 94,
      "outputs": [
        {
          "output_type": "stream",
          "text": [
            "tensor([[10., 24.,  3.],\n",
            "        [17., 12., 50.]])\n"
          ],
          "name": "stdout"
        }
      ]
    },
    {
      "cell_type": "code",
      "metadata": {
        "colab": {
          "base_uri": "https://localhost:8080/"
        },
        "id": "jwUaX_F3gOFl",
        "outputId": "20f1f776-2b07-437d-fb0f-11ef4fed8824"
      },
      "source": [
        "t = torch.FloatTensor([[1,2,3],\n",
        "                        [4,5,6],\n",
        "                       [0,8,7]])\n",
        "t"
      ],
      "execution_count": 74,
      "outputs": [
        {
          "output_type": "execute_result",
          "data": {
            "text/plain": [
              "tensor([[1., 2., 3.],\n",
              "        [4., 5., 6.],\n",
              "        [0., 8., 7.]])"
            ]
          },
          "metadata": {
            "tags": []
          },
          "execution_count": 74
        }
      ]
    },
    {
      "cell_type": "code",
      "metadata": {
        "colab": {
          "base_uri": "https://localhost:8080/"
        },
        "id": "aPlOm-9XiQ4F",
        "outputId": "c1fda63f-b6f7-45f6-efa9-b8727a94b62d"
      },
      "source": [
        "print(t.max(dim=0)[0])\n",
        "print(t.max(dim=1)[0])"
      ],
      "execution_count": 76,
      "outputs": [
        {
          "output_type": "stream",
          "text": [
            "tensor([4., 8., 7.])\n",
            "tensor([3., 6., 8.])\n"
          ],
          "name": "stdout"
        }
      ]
    },
    {
      "cell_type": "markdown",
      "metadata": {
        "id": "EzvoqAteFJmB"
      },
      "source": [
        "# view"
      ]
    },
    {
      "cell_type": "code",
      "metadata": {
        "colab": {
          "base_uri": "https://localhost:8080/"
        },
        "id": "UMdTi_2-CXWJ",
        "outputId": "df73407b-0953-4f20-94a0-86c073556350"
      },
      "source": [
        "t = np.array([[[0,1,2],\n",
        "               [3,4,5]],\n",
        "              [[6,7,8],\n",
        "              [9,10,11]]])\n",
        "ft = torch.FloatTensor(t)\n",
        "print(ft.shape)\n",
        "print(ft)"
      ],
      "execution_count": 99,
      "outputs": [
        {
          "output_type": "stream",
          "text": [
            "torch.Size([2, 2, 3])\n",
            "tensor([[[ 0.,  1.,  2.],\n",
            "         [ 3.,  4.,  5.]],\n",
            "\n",
            "        [[ 6.,  7.,  8.],\n",
            "         [ 9., 10., 11.]]])\n"
          ],
          "name": "stdout"
        }
      ]
    },
    {
      "cell_type": "code",
      "metadata": {
        "colab": {
          "base_uri": "https://localhost:8080/"
        },
        "id": "TL98FmeEEajJ",
        "outputId": "72a762e8-8153-4e89-e7bf-5815a36d02b2"
      },
      "source": [
        "print(ft.view([-1,3]))\n",
        "print(ft.view([-1,3]).shape)"
      ],
      "execution_count": 100,
      "outputs": [
        {
          "output_type": "stream",
          "text": [
            "tensor([[ 0.,  1.,  2.],\n",
            "        [ 3.,  4.,  5.],\n",
            "        [ 6.,  7.,  8.],\n",
            "        [ 9., 10., 11.]])\n",
            "torch.Size([4, 3])\n"
          ],
          "name": "stdout"
        }
      ]
    },
    {
      "cell_type": "code",
      "metadata": {
        "colab": {
          "base_uri": "https://localhost:8080/"
        },
        "id": "lg513PyfEymh",
        "outputId": "c9c084f2-630b-4884-f8f7-44a4624fdefb"
      },
      "source": [
        "print(ft.view([-1,1,3]))\n",
        "print(ft.view([-1,1,3]).shape)"
      ],
      "execution_count": 101,
      "outputs": [
        {
          "output_type": "stream",
          "text": [
            "tensor([[[ 0.,  1.,  2.]],\n",
            "\n",
            "        [[ 3.,  4.,  5.]],\n",
            "\n",
            "        [[ 6.,  7.,  8.]],\n",
            "\n",
            "        [[ 9., 10., 11.]]])\n",
            "torch.Size([4, 1, 3])\n"
          ],
          "name": "stdout"
        }
      ]
    },
    {
      "cell_type": "markdown",
      "metadata": {
        "id": "40PWg2UUFTTh"
      },
      "source": [
        "# squeeze"
      ]
    },
    {
      "cell_type": "code",
      "metadata": {
        "colab": {
          "base_uri": "https://localhost:8080/"
        },
        "id": "xg4TFUFmE2Dg",
        "outputId": "a59e70e9-a727-4591-e4a8-5f0acf75445e"
      },
      "source": [
        "ft = torch.FloatTensor([[0],[1],[2]])\n",
        "print(ft)\n",
        "print(ft.shape)"
      ],
      "execution_count": 102,
      "outputs": [
        {
          "output_type": "stream",
          "text": [
            "tensor([[0.],\n",
            "        [1.],\n",
            "        [2.]])\n",
            "torch.Size([3, 1])\n"
          ],
          "name": "stdout"
        }
      ]
    },
    {
      "cell_type": "code",
      "metadata": {
        "colab": {
          "base_uri": "https://localhost:8080/"
        },
        "id": "cVxP-1ovHftx",
        "outputId": "46d35a87-1230-4218-fdd1-61a33a61ec7a"
      },
      "source": [
        "print(ft.squeeze())\n",
        "print(ft.squeeze().shape)"
      ],
      "execution_count": 103,
      "outputs": [
        {
          "output_type": "stream",
          "text": [
            "tensor([0., 1., 2.])\n",
            "torch.Size([3])\n"
          ],
          "name": "stdout"
        }
      ]
    },
    {
      "cell_type": "markdown",
      "metadata": {
        "id": "4_UxFB0LH8Wr"
      },
      "source": [
        "# unsqueeze\n",
        "1인 차원 생성 - > 어느차원에 1인 차원 생성할지 지정해주기"
      ]
    },
    {
      "cell_type": "code",
      "metadata": {
        "colab": {
          "base_uri": "https://localhost:8080/"
        },
        "id": "XHh8StDJHlRC",
        "outputId": "4ea09787-a9c0-46bd-9323-ca7006d46159"
      },
      "source": [
        "ft = torch.tensor([0,1,2])\n",
        "print(ft.shape)"
      ],
      "execution_count": 107,
      "outputs": [
        {
          "output_type": "stream",
          "text": [
            "torch.Size([3])\n"
          ],
          "name": "stdout"
        }
      ]
    },
    {
      "cell_type": "code",
      "metadata": {
        "colab": {
          "base_uri": "https://localhost:8080/"
        },
        "id": "8S8fX3mJKR-5",
        "outputId": "21e95739-5d71-4bfa-bc46-b8545970a78e"
      },
      "source": [
        "print(ft.unsqueeze(0))\n",
        "print(ft.unsqueeze(0).shape)"
      ],
      "execution_count": 108,
      "outputs": [
        {
          "output_type": "stream",
          "text": [
            "tensor([[0, 1, 2]])\n",
            "torch.Size([1, 3])\n"
          ],
          "name": "stdout"
        }
      ]
    },
    {
      "cell_type": "code",
      "metadata": {
        "colab": {
          "base_uri": "https://localhost:8080/"
        },
        "id": "fT1nu8e0KauK",
        "outputId": "7d2154e3-8544-4689-fcf8-146049bf3a3c"
      },
      "source": [
        "print(ft.view(1,-1))\n",
        "print(ft.view(1,-1).shape)"
      ],
      "execution_count": 109,
      "outputs": [
        {
          "output_type": "stream",
          "text": [
            "tensor([[0, 1, 2]])\n",
            "torch.Size([1, 3])\n"
          ],
          "name": "stdout"
        }
      ]
    },
    {
      "cell_type": "code",
      "metadata": {
        "colab": {
          "base_uri": "https://localhost:8080/"
        },
        "id": "2QnD_OgZKfEa",
        "outputId": "df0c15ca-78d5-4e73-b0b0-cec383001f50"
      },
      "source": [
        "print(ft.unsqueeze(1))\n",
        "print(ft.unsqueeze(1).shape)"
      ],
      "execution_count": 110,
      "outputs": [
        {
          "output_type": "stream",
          "text": [
            "tensor([[0],\n",
            "        [1],\n",
            "        [2]])\n",
            "torch.Size([3, 1])\n"
          ],
          "name": "stdout"
        }
      ]
    },
    {
      "cell_type": "code",
      "metadata": {
        "colab": {
          "base_uri": "https://localhost:8080/"
        },
        "id": "oBb51P8ZKh7E",
        "outputId": "19438d4b-f968-426f-8c4f-85881471df58"
      },
      "source": [
        "print(ft.unsqueeze(-1))\n",
        "print(ft.unsqueeze(-1).shape)"
      ],
      "execution_count": 111,
      "outputs": [
        {
          "output_type": "stream",
          "text": [
            "tensor([[0],\n",
            "        [1],\n",
            "        [2]])\n",
            "torch.Size([3, 1])\n"
          ],
          "name": "stdout"
        }
      ]
    },
    {
      "cell_type": "code",
      "metadata": {
        "colab": {
          "base_uri": "https://localhost:8080/"
        },
        "id": "W6g3MPB5Kk9S",
        "outputId": "af3f0bf7-1eeb-48ed-c2f6-7ac1459118b6"
      },
      "source": [
        " lt = torch.LongTensor([1,2,3,4])\n",
        " print(lt)"
      ],
      "execution_count": 113,
      "outputs": [
        {
          "output_type": "stream",
          "text": [
            "tensor([1, 2, 3, 4])\n"
          ],
          "name": "stdout"
        }
      ]
    },
    {
      "cell_type": "code",
      "metadata": {
        "colab": {
          "base_uri": "https://localhost:8080/"
        },
        "id": "lhRZqTUKLIrx",
        "outputId": "8c34bce3-ccb4-43f7-b53f-efc2932991e0"
      },
      "source": [
        "print(lt.float())"
      ],
      "execution_count": 114,
      "outputs": [
        {
          "output_type": "stream",
          "text": [
            "tensor([1., 2., 3., 4.])\n"
          ],
          "name": "stdout"
        }
      ]
    },
    {
      "cell_type": "code",
      "metadata": {
        "id": "gIr_OqgDLLlp"
      },
      "source": [
        "bt = (lt==3)"
      ],
      "execution_count": 115,
      "outputs": []
    },
    {
      "cell_type": "code",
      "metadata": {
        "colab": {
          "base_uri": "https://localhost:8080/"
        },
        "id": "vd5h9SsDLNk6",
        "outputId": "9c2d5c67-c520-4ed3-84a6-1818d5483e1c"
      },
      "source": [
        "bt"
      ],
      "execution_count": 116,
      "outputs": [
        {
          "output_type": "execute_result",
          "data": {
            "text/plain": [
              "tensor([False, False,  True, False])"
            ]
          },
          "metadata": {
            "tags": []
          },
          "execution_count": 116
        }
      ]
    },
    {
      "cell_type": "code",
      "metadata": {
        "colab": {
          "base_uri": "https://localhost:8080/"
        },
        "id": "neZBaFmULOKx",
        "outputId": "27a3de2b-83f6-4a0d-9eea-1f780058fd4f"
      },
      "source": [
        "bt = torch.ByteTensor([True,False,False,True])\n",
        "print(bt)"
      ],
      "execution_count": 119,
      "outputs": [
        {
          "output_type": "stream",
          "text": [
            "tensor([1, 0, 0, 1], dtype=torch.uint8)\n"
          ],
          "name": "stdout"
        }
      ]
    },
    {
      "cell_type": "code",
      "metadata": {
        "colab": {
          "base_uri": "https://localhost:8080/"
        },
        "id": "mqxzGdHOLTNJ",
        "outputId": "034c25b9-9fc4-44cf-8ed6-0f0241e1b688"
      },
      "source": [
        "print(bt.long())\n",
        "print(bt.float())"
      ],
      "execution_count": 121,
      "outputs": [
        {
          "output_type": "stream",
          "text": [
            "tensor([1, 0, 0, 1])\n",
            "tensor([1., 0., 0., 1.])\n"
          ],
          "name": "stdout"
        }
      ]
    },
    {
      "cell_type": "markdown",
      "metadata": {
        "id": "o73CHgJpL0XI"
      },
      "source": [
        "# concatebate"
      ]
    },
    {
      "cell_type": "code",
      "metadata": {
        "id": "AWmnaAQeLbJJ"
      },
      "source": [
        "x = torch.FloatTensor([[1,2],[3,4]])\n",
        "y = torch.FloatTensor([[5,6],[7,8]])"
      ],
      "execution_count": 122,
      "outputs": []
    },
    {
      "cell_type": "code",
      "metadata": {
        "colab": {
          "base_uri": "https://localhost:8080/"
        },
        "id": "mWTNbgVgL-UB",
        "outputId": "d542ed25-92de-4263-df49-352256f3eb32"
      },
      "source": [
        "print(torch.cat([x,y],dim=0))\n",
        "print(torch.cat([x,y],dim=1))"
      ],
      "execution_count": 123,
      "outputs": [
        {
          "output_type": "stream",
          "text": [
            "tensor([[1., 2.],\n",
            "        [3., 4.],\n",
            "        [5., 6.],\n",
            "        [7., 8.]])\n",
            "tensor([[1., 2., 5., 6.],\n",
            "        [3., 4., 7., 8.]])\n"
          ],
          "name": "stdout"
        }
      ]
    },
    {
      "cell_type": "markdown",
      "metadata": {
        "id": "RWZBzWFNMyNA"
      },
      "source": [
        "# stacking"
      ]
    },
    {
      "cell_type": "code",
      "metadata": {
        "id": "wNnm474aMDea"
      },
      "source": [
        "x = torch.FloatTensor([1,4])\n",
        "y = torch.FloatTensor([2,5])\n",
        "z = torch.FloatTensor([3,6])"
      ],
      "execution_count": 124,
      "outputs": []
    },
    {
      "cell_type": "code",
      "metadata": {
        "colab": {
          "base_uri": "https://localhost:8080/"
        },
        "id": "uQ4JA7eEM5f6",
        "outputId": "701748bc-bff8-43fb-9d05-977950afbe53"
      },
      "source": [
        "print(torch.stack([x,y,z]))\n",
        "print(torch.stack([x,y,z], dim=1))"
      ],
      "execution_count": 125,
      "outputs": [
        {
          "output_type": "stream",
          "text": [
            "tensor([[1., 4.],\n",
            "        [2., 5.],\n",
            "        [3., 6.]])\n",
            "tensor([[1., 2., 3.],\n",
            "        [4., 5., 6.]])\n"
          ],
          "name": "stdout"
        }
      ]
    },
    {
      "cell_type": "code",
      "metadata": {
        "colab": {
          "base_uri": "https://localhost:8080/"
        },
        "id": "KbA5JTaVM-rB",
        "outputId": "a3f28b6c-835f-4ad0-d3c7-e16e4cf263b5"
      },
      "source": [
        "print(torch.cat([x.unsqueeze(0),y.unsqueeze(0),z.unsqueeze(0)], dim=0))"
      ],
      "execution_count": 126,
      "outputs": [
        {
          "output_type": "stream",
          "text": [
            "tensor([[1., 4.],\n",
            "        [2., 5.],\n",
            "        [3., 6.]])\n"
          ],
          "name": "stdout"
        }
      ]
    },
    {
      "cell_type": "markdown",
      "metadata": {
        "id": "ZkQtslxGNJFG"
      },
      "source": [
        "# ones and zeros"
      ]
    },
    {
      "cell_type": "code",
      "metadata": {
        "colab": {
          "base_uri": "https://localhost:8080/"
        },
        "id": "ZJmprgsUNITT",
        "outputId": "4a40a2a2-1ab0-4e0a-9567-f583863e21a8"
      },
      "source": [
        "x = torch.FloatTensor([[0,1,2],[2,1,0]])\n",
        "print(x)"
      ],
      "execution_count": 127,
      "outputs": [
        {
          "output_type": "stream",
          "text": [
            "tensor([[0., 1., 2.],\n",
            "        [2., 1., 0.]])\n"
          ],
          "name": "stdout"
        }
      ]
    },
    {
      "cell_type": "code",
      "metadata": {
        "colab": {
          "base_uri": "https://localhost:8080/"
        },
        "id": "b-D1Z5L3NWdi",
        "outputId": "204e88bb-c7ea-43d5-ddbb-bd5499c0a0fb"
      },
      "source": [
        "print(torch.ones_like(x).long())\n",
        "print(torch.zeros_like(x))"
      ],
      "execution_count": 134,
      "outputs": [
        {
          "output_type": "stream",
          "text": [
            "tensor([[1, 1, 1],\n",
            "        [1, 1, 1]])\n",
            "tensor([[0., 0., 0.],\n",
            "        [0., 0., 0.]])\n"
          ],
          "name": "stdout"
        }
      ]
    },
    {
      "cell_type": "markdown",
      "metadata": {
        "id": "iiucWKGzNdWO"
      },
      "source": [
        "# in place option"
      ]
    },
    {
      "cell_type": "code",
      "metadata": {
        "colab": {
          "base_uri": "https://localhost:8080/"
        },
        "id": "2c7EP4U3NcYp",
        "outputId": "3df11ca1-55aa-4623-d390-b675394ff491"
      },
      "source": [
        "x = torch.FloatTensor([[0,1,2],[2,1,0]])\n",
        "print(x.mul(2))\n",
        "print(x)\n",
        "print(x.mul_(2))\n",
        "print(x)"
      ],
      "execution_count": 136,
      "outputs": [
        {
          "output_type": "stream",
          "text": [
            "tensor([[0., 2., 4.],\n",
            "        [4., 2., 0.]])\n",
            "tensor([[0., 1., 2.],\n",
            "        [2., 1., 0.]])\n",
            "tensor([[0., 2., 4.],\n",
            "        [4., 2., 0.]])\n",
            "tensor([[0., 2., 4.],\n",
            "        [4., 2., 0.]])\n"
          ],
          "name": "stdout"
        }
      ]
    },
    {
      "cell_type": "code",
      "metadata": {
        "id": "jhEtWnU6OphB"
      },
      "source": [
        ""
      ],
      "execution_count": null,
      "outputs": []
    }
  ]
}