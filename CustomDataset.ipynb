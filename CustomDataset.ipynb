{
  "nbformat": 4,
  "nbformat_minor": 0,
  "metadata": {
    "colab": {
      "name": "CustomDataset.ipynb",
      "provenance": [],
      "collapsed_sections": []
    },
    "kernelspec": {
      "name": "python3",
      "display_name": "Python 3"
    },
    "language_info": {
      "name": "python"
    }
  },
  "cells": [
    {
      "cell_type": "markdown",
      "metadata": {
        "id": "-JSu8L_leaIQ"
      },
      "source": [
        ""
      ]
    },
    {
      "cell_type": "code",
      "metadata": {
        "colab": {
          "base_uri": "https://localhost:8080/"
        },
        "id": "TVjS2qtHemST",
        "outputId": "21a74310-8449-4277-d9de-9376c3d03be1"
      },
      "source": [
        "import torch\n",
        "import torch.nn as nn\n",
        "import torch.nn.functional as F\n",
        "from torch.utils.data import TensorDataset\n",
        "from torch.utils.data import DataLoader\n",
        "\n",
        "class Custom(nn.Module):\n",
        "  def __init__(self):\n",
        "    self.x_data = [[73, 80, 75],\n",
        "                   [93, 88, 93],\n",
        "                   [89, 91, 90],\n",
        "                   [96, 98, 100],\n",
        "                   [73, 66, 70]]\n",
        "    self.y_data = [[152], [185], [180], [196], [142]]\n",
        "\n",
        "  def __len__(self):\n",
        "    return len(self.x_data)\n",
        "  def __getitem__(self, idx):\n",
        "    x = torch.FloatTensor(self.x_data[idx])\n",
        "    y = torch.FloatTensor(self.y_data[idx])\n",
        "\n",
        "    return x,y\n",
        "\n",
        "dataset = Custom()\n",
        "model = torch.nn.Linear(3,1)\n",
        "print(model)\n",
        "dataloader = DataLoader(dataset, batch_size=2, shuffle=True)\n",
        "optimizer = torch.optim.SGD(model.parameters(), lr = 1e-5)\n",
        "ep = 20\n",
        "\n",
        "for epoch in range(ep+1):\n",
        "  for batch_idx, samples in enumerate(dataloader):\n",
        "    x_train, y_train = samples\n",
        "\n",
        "    prediction = model(x_train)\n",
        "\n",
        "    cost = F.mse_loss(prediction, y_train)\n",
        "\n",
        "    optimizer.zero_grad()\n",
        "    cost.backward()\n",
        "    optimizer.step()\n",
        "\n",
        "    if epoch % 2 ==0:\n",
        "      print(f'epoch {epoch:4d}/{ep} cost: {cost.item():.6f}')"
      ],
      "execution_count": 10,
      "outputs": [
        {
          "output_type": "stream",
          "text": [
            "Linear(in_features=3, out_features=1, bias=True)\n",
            "epoch    0/20 cost: 3332.735840\n",
            "epoch    0/20 cost: 1343.393799\n",
            "epoch    0/20 cost: 530.866577\n",
            "epoch    2/20 cost: 0.734595\n",
            "epoch    2/20 cost: 9.831322\n",
            "epoch    2/20 cost: 9.013646\n",
            "epoch    4/20 cost: 4.996189\n",
            "epoch    4/20 cost: 3.578609\n",
            "epoch    4/20 cost: 1.780410\n",
            "epoch    6/20 cost: 3.510970\n",
            "epoch    6/20 cost: 2.028924\n",
            "epoch    6/20 cost: 10.634430\n",
            "epoch    8/20 cost: 7.663854\n",
            "epoch    8/20 cost: 3.953250\n",
            "epoch    8/20 cost: 2.272808\n",
            "epoch   10/20 cost: 4.258217\n",
            "epoch   10/20 cost: 2.584719\n",
            "epoch   10/20 cost: 4.486231\n",
            "epoch   12/20 cost: 3.947484\n",
            "epoch   12/20 cost: 7.092846\n",
            "epoch   12/20 cost: 4.363940\n",
            "epoch   14/20 cost: 5.140184\n",
            "epoch   14/20 cost: 1.844597\n",
            "epoch   14/20 cost: 7.496847\n",
            "epoch   16/20 cost: 3.517427\n",
            "epoch   16/20 cost: 4.218570\n",
            "epoch   16/20 cost: 2.941003\n",
            "epoch   18/20 cost: 0.548307\n",
            "epoch   18/20 cost: 11.375498\n",
            "epoch   18/20 cost: 2.379152\n",
            "epoch   20/20 cost: 3.543118\n",
            "epoch   20/20 cost: 4.099080\n",
            "epoch   20/20 cost: 3.405663\n"
          ],
          "name": "stdout"
        }
      ]
    },
    {
      "cell_type": "code",
      "metadata": {
        "id": "2d-M8zK3iP53",
        "colab": {
          "base_uri": "https://localhost:8080/"
        },
        "outputId": "52229e95-d955-4e5d-84d1-f8cfacd98ca3"
      },
      "source": [
        "new_var =  torch.FloatTensor([[75, 80, 75]]) \n",
        "pred_y = model(new_var) \n",
        "print(pred_y)"
      ],
      "execution_count": 11,
      "outputs": [
        {
          "output_type": "stream",
          "text": [
            "tensor([[154.4970]], grad_fn=<AddmmBackward>)\n"
          ],
          "name": "stdout"
        }
      ]
    },
    {
      "cell_type": "code",
      "metadata": {
        "id": "DnPdcaDMgm6X"
      },
      "source": [
        ""
      ],
      "execution_count": null,
      "outputs": []
    }
  ]
}