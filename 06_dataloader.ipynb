{
  "nbformat": 4,
  "nbformat_minor": 0,
  "metadata": {
    "colab": {
      "name": "dataloader.ipynb",
      "provenance": [],
      "collapsed_sections": []
    },
    "kernelspec": {
      "name": "python3",
      "display_name": "Python 3"
    },
    "language_info": {
      "name": "python"
    }
  },
  "cells": [
    {
      "cell_type": "markdown",
      "metadata": {
        "id": "-JSu8L_leaIQ"
      },
      "source": [
        ""
      ]
    },
    {
      "cell_type": "code",
      "metadata": {
        "colab": {
          "base_uri": "https://localhost:8080/"
        },
        "id": "TVjS2qtHemST",
        "outputId": "152e8c13-77ff-4311-8fe9-21d79a3cbc14"
      },
      "source": [
        "import torch\n",
        "import torch.nn as nn\n",
        "import torch.nn.functional as F\n",
        "from torch.utils.data import TensorDataset\n",
        "from torch.utils.data import DataLoader\n",
        "\n",
        "\n",
        "x_train = torch.FloatTensor([[73,80,75],\n",
        "                             [93,88,93],\n",
        "                             [89,91,90],\n",
        "                             [96,98,100],\n",
        "                             [73,66,70]])\n",
        "y_train = torch.FloatTensor([[152],[185],[180],[196], [142]])\n",
        "\n",
        "dataset = TensorDataset(x_train, y_train)\n",
        "\n",
        "dataloader = DataLoader(dataset, batch_size=2, shuffle=True)\n",
        "\n",
        "\n",
        "class MiniBatchGD(nn.Module):\n",
        "  def __init__(self):\n",
        "    super().__init__()\n",
        "    self.linear = nn.Linear(3,1)\n",
        "\n",
        "  def forward(self,x):\n",
        "    # print(self.linear(x))\n",
        "    return self.linear(x)\n",
        "\n",
        "model = MiniBatchGD()\n",
        "optimizer = torch.optim.SGD(model.parameters(), lr = 1e-5)\n",
        "ep = 20\n",
        "\n",
        "for epoch in range(ep+1):\n",
        "  for batch_idx, samples in enumerate(dataloader):\n",
        "    x_train, y_train = samples\n",
        "\n",
        "    prediction = model(x_train)\n",
        "\n",
        "    cost = F.mse_loss(prediction, y_train)\n",
        "\n",
        "    optimizer.zero_grad()\n",
        "    cost.backward()\n",
        "    optimizer.step()\n",
        "\n",
        "    if epoch % 2 ==0:\n",
        "      print(f'epoch {epoch:4d}/{ep} cost: {cost.item():.6f}')"
      ],
      "execution_count": 8,
      "outputs": [
        {
          "output_type": "stream",
          "text": [
            "epoch    0/20 cost: 22570.701172\n",
            "epoch    0/20 cost: 17191.423828\n",
            "epoch    0/20 cost: 3304.055176\n",
            "epoch    2/20 cost: 23.358177\n",
            "epoch    2/20 cost: 3.646170\n",
            "epoch    2/20 cost: 8.279932\n",
            "epoch    4/20 cost: 0.309228\n",
            "epoch    4/20 cost: 3.693129\n",
            "epoch    4/20 cost: 0.283688\n",
            "epoch    6/20 cost: 2.874703\n",
            "epoch    6/20 cost: 0.299137\n",
            "epoch    6/20 cost: 0.154022\n",
            "epoch    8/20 cost: 0.248673\n",
            "epoch    8/20 cost: 1.201911\n",
            "epoch    8/20 cost: 3.586012\n",
            "epoch   10/20 cost: 1.362382\n",
            "epoch   10/20 cost: 0.061979\n",
            "epoch   10/20 cost: 3.869550\n",
            "epoch   12/20 cost: 1.022520\n",
            "epoch   12/20 cost: 3.075898\n",
            "epoch   12/20 cost: 0.455176\n",
            "epoch   14/20 cost: 0.325925\n",
            "epoch   14/20 cost: 2.577440\n",
            "epoch   14/20 cost: 0.243873\n",
            "epoch   16/20 cost: 1.297580\n",
            "epoch   16/20 cost: 2.690600\n",
            "epoch   16/20 cost: 0.518819\n",
            "epoch   18/20 cost: 1.733647\n",
            "epoch   18/20 cost: 1.339192\n",
            "epoch   18/20 cost: 0.488203\n",
            "epoch   20/20 cost: 0.785267\n",
            "epoch   20/20 cost: 2.743253\n",
            "epoch   20/20 cost: 0.332942\n"
          ],
          "name": "stdout"
        }
      ]
    },
    {
      "cell_type": "code",
      "metadata": {
        "id": "2d-M8zK3iP53",
        "colab": {
          "base_uri": "https://localhost:8080/"
        },
        "outputId": "8e65c94b-4555-41c4-ba0a-0f454b1604db"
      },
      "source": [
        "new_var =  torch.FloatTensor([[75, 80, 75]]) \n",
        "pred_y = model(new_var) \n",
        "print(pred_y)"
      ],
      "execution_count": 9,
      "outputs": [
        {
          "output_type": "stream",
          "text": [
            "tensor([[152.5161]], grad_fn=<AddmmBackward>)\n"
          ],
          "name": "stdout"
        }
      ]
    },
    {
      "cell_type": "code",
      "metadata": {
        "id": "DnPdcaDMgm6X"
      },
      "source": [
        ""
      ],
      "execution_count": null,
      "outputs": []
    }
  ]
}
