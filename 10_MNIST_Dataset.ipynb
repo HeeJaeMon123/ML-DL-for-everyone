{
  "nbformat": 4,
  "nbformat_minor": 0,
  "metadata": {
    "colab": {
      "name": "MNIST_Dataset.ipynb",
      "provenance": [],
      "collapsed_sections": []
    },
    "kernelspec": {
      "name": "python3",
      "display_name": "Python 3"
    },
    "language_info": {
      "name": "python"
    },
    "accelerator": "GPU"
  },
  "cells": [
    {
      "cell_type": "code",
      "metadata": {
        "id": "9TTtsDLCJgb_"
      },
      "source": [
        "import torch\n",
        "import torch.nn as nn\n",
        "import torch.nn.functional as F\n",
        "import torchvision.datasets as dsets\n",
        "import torchvision.transforms as transforms\n",
        "from torch.utils.data import DataLoader\n",
        "import matplotlib.pyplot as plt\n",
        "import random"
      ],
      "execution_count": 3,
      "outputs": []
    },
    {
      "cell_type": "code",
      "metadata": {
        "colab": {
          "base_uri": "https://localhost:8080/"
        },
        "id": "J-J65JdrkRl5",
        "outputId": "452998cb-96d6-4516-a858-ca2d0d954277"
      },
      "source": [
        "cuda = torch.cuda.is_available()\n",
        "device = torch.device(\"cuda\" if cuda else \"cpu\")\n",
        "print(device)"
      ],
      "execution_count": 4,
      "outputs": [
        {
          "output_type": "stream",
          "text": [
            "cuda\n"
          ],
          "name": "stdout"
        }
      ]
    },
    {
      "cell_type": "code",
      "metadata": {
        "id": "QGJit41NJlsj"
      },
      "source": [
        "# for reproducibility\n",
        "random.seed(777)\n",
        "torch.manual_seed(777)\n",
        "if device == 'cuda':\n",
        "    torch.cuda.manual_seed_all(777)"
      ],
      "execution_count": 5,
      "outputs": []
    },
    {
      "cell_type": "code",
      "metadata": {
        "id": "zH3pofO4kya5"
      },
      "source": [
        "training_epochs = 15\n",
        "batch_size=100"
      ],
      "execution_count": 6,
      "outputs": []
    },
    {
      "cell_type": "code",
      "metadata": {
        "id": "-cgguKfrkxp5"
      },
      "source": [
        "mnist_train = dsets.MNIST(root='MNIST_data/', train=True, transform=transforms.ToTensor(),download=True)\n",
        "\n",
        "mnist_test = dsets.MNIST(root='MNIST_data/', train=False, transform=transforms.ToTensor(),download=True)"
      ],
      "execution_count": null,
      "outputs": []
    },
    {
      "cell_type": "code",
      "metadata": {
        "colab": {
          "base_uri": "https://localhost:8080/"
        },
        "id": "3kfGUHv6lF56",
        "outputId": "bb37a103-6780-47a8-d416-07c2080c2823"
      },
      "source": [
        "type(mnist_train)"
      ],
      "execution_count": 8,
      "outputs": [
        {
          "output_type": "execute_result",
          "data": {
            "text/plain": [
              "torchvision.datasets.mnist.MNIST"
            ]
          },
          "metadata": {
            "tags": []
          },
          "execution_count": 8
        }
      ]
    },
    {
      "cell_type": "code",
      "metadata": {
        "id": "gMmnCUpTlQyJ"
      },
      "source": [
        "data_loader = DataLoader(dataset=mnist_train, batch_size=batch_size, shuffle=True, drop_last=True)"
      ],
      "execution_count": 10,
      "outputs": []
    },
    {
      "cell_type": "code",
      "metadata": {
        "id": "l43iL_3Xlmli"
      },
      "source": [
        "linear = nn.Linear(784,10, bias=True).to(device)"
      ],
      "execution_count": 11,
      "outputs": []
    },
    {
      "cell_type": "code",
      "metadata": {
        "id": "Z59NTORJlx7x"
      },
      "source": [
        "criterion = nn.CrossEntropyLoss().to(device)\n",
        "optimizer = torch.optim.SGD(linear.parameters(), lr=0.1)"
      ],
      "execution_count": 12,
      "outputs": []
    },
    {
      "cell_type": "markdown",
      "metadata": {
        "id": "g7wViVcbmOmn"
      },
      "source": [
        "# Train"
      ]
    },
    {
      "cell_type": "code",
      "metadata": {
        "colab": {
          "base_uri": "https://localhost:8080/"
        },
        "id": "u1AQ68OSmLdq",
        "outputId": "8518da79-9e00-425f-e428-a325791077bc"
      },
      "source": [
        "for epoch in range(training_epochs):\n",
        "  avg_cost  =0\n",
        "  total_batch = len(data_loader)\n",
        "  for X, Y in data_loader:\n",
        "    X=X.view(-1,28*28).to(device)\n",
        "    Y=Y.to(device)\n",
        "    hypothesis = linear(X)\n",
        "    cost = criterion(hypothesis, Y)\n",
        "\n",
        "    optimizer.zero_grad()\n",
        "    cost.backward()\n",
        "    optimizer.step()\n",
        "    # print(type(cost))\n",
        "    avg_cost += cost / total_batch\n",
        "  print(f'epoch: {epoch}/{15} cost: {avg_cost}')"
      ],
      "execution_count": 17,
      "outputs": [
        {
          "output_type": "stream",
          "text": [
            "epoch: 0/15 cost: 0.32319000363349915\n",
            "epoch: 1/15 cost: 0.31155264377593994\n",
            "epoch: 2/15 cost: 0.30313271284103394\n",
            "epoch: 3/15 cost: 0.29752856492996216\n",
            "epoch: 4/15 cost: 0.2927965521812439\n",
            "epoch: 5/15 cost: 0.28881970047950745\n",
            "epoch: 6/15 cost: 0.28569918870925903\n",
            "epoch: 7/15 cost: 0.28300005197525024\n",
            "epoch: 8/15 cost: 0.2807719111442566\n",
            "epoch: 9/15 cost: 0.27860328555107117\n",
            "epoch: 10/15 cost: 0.2768194079399109\n",
            "epoch: 11/15 cost: 0.2753507196903229\n",
            "epoch: 12/15 cost: 0.27365967631340027\n",
            "epoch: 13/15 cost: 0.2723069190979004\n",
            "epoch: 14/15 cost: 0.2709958851337433\n"
          ],
          "name": "stdout"
        }
      ]
    },
    {
      "cell_type": "code",
      "metadata": {
        "colab": {
          "base_uri": "https://localhost:8080/"
        },
        "id": "bgjPFLKwmZYD",
        "outputId": "ca878fb3-9359-4ce3-ae5e-f88517a2ba26"
      },
      "source": [
        "print(len(data_loader))"
      ],
      "execution_count": 21,
      "outputs": [
        {
          "output_type": "stream",
          "text": [
            "600\n"
          ],
          "name": "stdout"
        }
      ]
    },
    {
      "cell_type": "markdown",
      "metadata": {
        "id": "dxm8n7DAmQLe"
      },
      "source": [
        "# Test"
      ]
    },
    {
      "cell_type": "code",
      "metadata": {
        "colab": {
          "base_uri": "https://localhost:8080/",
          "height": 429
        },
        "id": "ivFrUWy1mRvJ",
        "outputId": "6e14109c-1719-4df9-d71f-742c0ca9232e"
      },
      "source": [
        "print(type(mnist_test))\n",
        "with torch.no_grad():\n",
        "  X_test = mnist_test.test_data.view(-1,28*28).float().to(device)\n",
        "  Y_test = mnist_test.test_labels.to(device)\n",
        "\n",
        "  prediction = linear(X_test)\n",
        "  correct = torch.argmax(prediction, 1) == Y_test\n",
        "  acc = correct.float().mean()\n",
        "  print(f'acc: {acc}')\n",
        "\n",
        "  r = random.randint(0,len(mnist_test)-1)\n",
        "  X_single_data = mnist_test.test_data[r].view(-1, 28*28).float().to(device)\n",
        "  Y_single_data = mnist_test.test_labels[r].to(device)\n",
        "\n",
        "  print(f'label: { Y_single_data}')\n",
        "  single_prediction = linear(X_single_data)\n",
        "  print('Prediction: ', torch.argmax(single_prediction, 1).item())\n",
        "  plt.imshow(mnist_test.test_data[r:r + 1].view(28, 28), cmap='Greys', interpolation='nearest')"
      ],
      "execution_count": 34,
      "outputs": [
        {
          "output_type": "stream",
          "text": [
            "<class 'torchvision.datasets.mnist.MNIST'>\n",
            "acc: 0.8784999847412109\n",
            "label: 7\n",
            "Prediction:  7\n"
          ],
          "name": "stdout"
        },
        {
          "output_type": "stream",
          "text": [
            "/usr/local/lib/python3.7/dist-packages/torchvision/datasets/mnist.py:67: UserWarning: test_data has been renamed data\n",
            "  warnings.warn(\"test_data has been renamed data\")\n",
            "/usr/local/lib/python3.7/dist-packages/torchvision/datasets/mnist.py:57: UserWarning: test_labels has been renamed targets\n",
            "  warnings.warn(\"test_labels has been renamed targets\")\n"
          ],
          "name": "stderr"
        },
        {
          "output_type": "display_data",
          "data": {
            "image/png": "[encoded data removed]",
            "text/plain": [
              "<Figure size 432x288 with 1 Axes>"
            ]
          },
          "metadata": {
            "tags": [],
            "needs_background": "light"
          }
        }
      ]
    },
    {
      "cell_type": "code",
      "metadata": {
        "id": "i7pTYncyp8jF"
      },
      "source": [
        ""
      ],
      "execution_count": 33,
      "outputs": []
    }
  ]
}
