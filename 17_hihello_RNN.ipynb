{
  "nbformat": 4,
  "nbformat_minor": 0,
  "metadata": {
    "colab": {
      "name": "17_hihello_RNN.ipynb",
      "provenance": []
    },
    "kernelspec": {
      "name": "python3",
      "display_name": "Python 3"
    },
    "language_info": {
      "name": "python"
    }
  },
  "cells": [
    {
      "cell_type": "code",
      "metadata": {
        "id": "QEuM18cEEAHr"
      },
      "source": [
        "import torch\n",
        "import torch.nn as nn\n",
        "import numpy as np"
      ],
      "execution_count": 24,
      "outputs": []
    },
    {
      "cell_type": "code",
      "metadata": {
        "colab": {
          "base_uri": "https://localhost:8080/"
        },
        "id": "0nWY2RsdQj2e",
        "outputId": "131c40e5-ce26-42ba-fd89-1be5ffe0bac5"
      },
      "source": [
        "char_set = ['h','i','e','l','o']\n",
        "\n",
        "input_size = len(char_set)\n",
        "hidden_size = len(char_set)\n",
        "learning_rate=0.1\n",
        "\n",
        "x_data = [[0,1,0,2,3,3]]\n",
        "x_one_hot = [[[1,0,0,0,0],\n",
        "              [0,1,0,0,0],\n",
        "              [1,0,0,0,0],\n",
        "              [0,0,1,0,0],\n",
        "              [0,0,0,1,0],\n",
        "              [0,0,0,1,0,]]]\n",
        "y_data = [[1,0,2,3,3,4]]\n",
        "\n",
        "X = torch.FloatTensor(x_one_hot)\n",
        "y = torch.LongTensor(y_data)\n",
        "print(y.shape)"
      ],
      "execution_count": 29,
      "outputs": [
        {
          "output_type": "stream",
          "text": [
            "torch.Size([1, 6])\n"
          ],
          "name": "stdout"
        }
      ]
    },
    {
      "cell_type": "code",
      "metadata": {
        "colab": {
          "base_uri": "https://localhost:8080/"
        },
        "id": "dxIJfARTWmeB",
        "outputId": "3694cb76-5c33-4031-f59b-3c007121f973"
      },
      "source": [
        "x_data[0]"
      ],
      "execution_count": 19,
      "outputs": [
        {
          "output_type": "execute_result",
          "data": {
            "text/plain": [
              "[0, 1, 0, 2, 3, 3]"
            ]
          },
          "metadata": {
            "tags": []
          },
          "execution_count": 19
        }
      ]
    },
    {
      "cell_type": "code",
      "metadata": {
        "colab": {
          "base_uri": "https://localhost:8080/"
        },
        "id": "lgMMi6fSXsDn",
        "outputId": "0bce4567-ad7e-4e03-fca4-e57f979bc458"
      },
      "source": [
        "sample = \" if you want you\"\n",
        "\n",
        "char_set = list(set(sample))\n",
        "char_dic = {c:i for i,c in enumerate(char_set)}\n",
        "char_dic"
      ],
      "execution_count": 22,
      "outputs": [
        {
          "output_type": "execute_result",
          "data": {
            "text/plain": [
              "{' ': 0,\n",
              " 'a': 3,\n",
              " 'f': 9,\n",
              " 'i': 5,\n",
              " 'n': 1,\n",
              " 'o': 6,\n",
              " 't': 4,\n",
              " 'u': 8,\n",
              " 'w': 2,\n",
              " 'y': 7}"
            ]
          },
          "metadata": {
            "tags": []
          },
          "execution_count": 22
        }
      ]
    },
    {
      "cell_type": "code",
      "metadata": {
        "colab": {
          "base_uri": "https://localhost:8080/"
        },
        "id": "TC5LIsfIYDZw",
        "outputId": "8a10a212-42c2-45d9-947e-95c282bc16b1"
      },
      "source": [
        "rnn = nn.RNN(input_size, hidden_size, batch_first=True)\n",
        "\n",
        "criterion = nn.CrossEntropyLoss()\n",
        "optimizer = torch.optim.Adam(rnn.parameters(), learning_rate)\n",
        "\n",
        "for i in range(100):\n",
        "  outputs, _status = rnn(X)\n",
        "  cost = criterion(outputs.view(-1, input_size), y.view(-1))\n",
        "\n",
        "  optimizer.zero_grad()\n",
        "  cost.backward()\n",
        "  optimizer.step()\n",
        "\n",
        "  result = outputs.data.argmax(axis=2)\n",
        "  result_str = ''.join([char_set[c] for c in np.squeeze(result)])\n",
        "  print(i, \"loss: \", cost.item(), \"prediction: \", \n",
        "        result, \"true Y: \", y_data, \"prediction str: \", result_str)\n",
        "  # print(outputs)\n",
        "  # print(result)\n",
        "  # print(np.squeeze(result))"
      ],
      "execution_count": 30,
      "outputs": [
        {
          "output_type": "stream",
          "text": [
            "0 loss:  1.4412847757339478 prediction:  tensor([[0, 0, 4, 3, 4, 4]]) true Y:  [[1, 0, 2, 3, 3, 4]] prediction str:  hholoo\n",
            "1 loss:  1.2575457096099854 prediction:  tensor([[1, 0, 2, 1, 3, 3]]) true Y:  [[1, 0, 2, 3, 3, 4]] prediction str:  iheill\n",
            "2 loss:  1.115575909614563 prediction:  tensor([[1, 0, 2, 1, 3, 3]]) true Y:  [[1, 0, 2, 3, 3, 4]] prediction str:  iheill\n",
            "3 loss:  1.0023086071014404 prediction:  tensor([[1, 0, 2, 3, 3, 4]]) true Y:  [[1, 0, 2, 3, 3, 4]] prediction str:  ihello\n",
            "4 loss:  0.9259056448936462 prediction:  tensor([[1, 0, 2, 3, 3, 4]]) true Y:  [[1, 0, 2, 3, 3, 4]] prediction str:  ihello\n",
            "5 loss:  0.8613995909690857 prediction:  tensor([[1, 0, 2, 3, 3, 4]]) true Y:  [[1, 0, 2, 3, 3, 4]] prediction str:  ihello\n",
            "6 loss:  0.8028315901756287 prediction:  tensor([[1, 0, 2, 3, 3, 4]]) true Y:  [[1, 0, 2, 3, 3, 4]] prediction str:  ihello\n",
            "7 loss:  0.7499997615814209 prediction:  tensor([[1, 0, 2, 3, 3, 4]]) true Y:  [[1, 0, 2, 3, 3, 4]] prediction str:  ihello\n",
            "8 loss:  0.7061767578125 prediction:  tensor([[1, 0, 2, 3, 3, 4]]) true Y:  [[1, 0, 2, 3, 3, 4]] prediction str:  ihello\n",
            "9 loss:  0.6713929176330566 prediction:  tensor([[1, 0, 2, 3, 3, 4]]) true Y:  [[1, 0, 2, 3, 3, 4]] prediction str:  ihello\n",
            "10 loss:  0.6407249569892883 prediction:  tensor([[1, 0, 2, 3, 3, 4]]) true Y:  [[1, 0, 2, 3, 3, 4]] prediction str:  ihello\n",
            "11 loss:  0.6159453988075256 prediction:  tensor([[1, 0, 2, 3, 3, 4]]) true Y:  [[1, 0, 2, 3, 3, 4]] prediction str:  ihello\n",
            "12 loss:  0.5970455408096313 prediction:  tensor([[1, 0, 2, 3, 3, 4]]) true Y:  [[1, 0, 2, 3, 3, 4]] prediction str:  ihello\n",
            "13 loss:  0.5760263800621033 prediction:  tensor([[1, 0, 2, 3, 3, 4]]) true Y:  [[1, 0, 2, 3, 3, 4]] prediction str:  ihello\n",
            "14 loss:  0.5586714148521423 prediction:  tensor([[1, 0, 2, 3, 3, 4]]) true Y:  [[1, 0, 2, 3, 3, 4]] prediction str:  ihello\n",
            "15 loss:  0.545529842376709 prediction:  tensor([[1, 0, 2, 3, 3, 4]]) true Y:  [[1, 0, 2, 3, 3, 4]] prediction str:  ihello\n",
            "16 loss:  0.5321124196052551 prediction:  tensor([[1, 0, 2, 3, 3, 4]]) true Y:  [[1, 0, 2, 3, 3, 4]] prediction str:  ihello\n",
            "17 loss:  0.5231205821037292 prediction:  tensor([[1, 0, 2, 3, 3, 4]]) true Y:  [[1, 0, 2, 3, 3, 4]] prediction str:  ihello\n",
            "18 loss:  0.5157957077026367 prediction:  tensor([[1, 0, 2, 3, 3, 4]]) true Y:  [[1, 0, 2, 3, 3, 4]] prediction str:  ihello\n",
            "19 loss:  0.5087061524391174 prediction:  tensor([[1, 0, 2, 3, 3, 4]]) true Y:  [[1, 0, 2, 3, 3, 4]] prediction str:  ihello\n",
            "20 loss:  0.5040138363838196 prediction:  tensor([[1, 0, 2, 3, 3, 4]]) true Y:  [[1, 0, 2, 3, 3, 4]] prediction str:  ihello\n",
            "21 loss:  0.49964389204978943 prediction:  tensor([[1, 0, 2, 3, 3, 4]]) true Y:  [[1, 0, 2, 3, 3, 4]] prediction str:  ihello\n",
            "22 loss:  0.49526676535606384 prediction:  tensor([[1, 0, 2, 3, 3, 4]]) true Y:  [[1, 0, 2, 3, 3, 4]] prediction str:  ihello\n",
            "23 loss:  0.49192652106285095 prediction:  tensor([[1, 0, 2, 3, 3, 4]]) true Y:  [[1, 0, 2, 3, 3, 4]] prediction str:  ihello\n",
            "24 loss:  0.4892217218875885 prediction:  tensor([[1, 0, 2, 3, 3, 4]]) true Y:  [[1, 0, 2, 3, 3, 4]] prediction str:  ihello\n",
            "25 loss:  0.48600149154663086 prediction:  tensor([[1, 0, 2, 3, 3, 4]]) true Y:  [[1, 0, 2, 3, 3, 4]] prediction str:  ihello\n",
            "26 loss:  0.4829902946949005 prediction:  tensor([[1, 0, 2, 3, 3, 4]]) true Y:  [[1, 0, 2, 3, 3, 4]] prediction str:  ihello\n",
            "27 loss:  0.480764776468277 prediction:  tensor([[1, 0, 2, 3, 3, 4]]) true Y:  [[1, 0, 2, 3, 3, 4]] prediction str:  ihello\n",
            "28 loss:  0.4788384735584259 prediction:  tensor([[1, 0, 2, 3, 3, 4]]) true Y:  [[1, 0, 2, 3, 3, 4]] prediction str:  ihello\n",
            "29 loss:  0.4770371615886688 prediction:  tensor([[1, 0, 2, 3, 3, 4]]) true Y:  [[1, 0, 2, 3, 3, 4]] prediction str:  ihello\n",
            "30 loss:  0.4757198989391327 prediction:  tensor([[1, 0, 2, 3, 3, 4]]) true Y:  [[1, 0, 2, 3, 3, 4]] prediction str:  ihello\n",
            "31 loss:  0.47473642230033875 prediction:  tensor([[1, 0, 2, 3, 3, 4]]) true Y:  [[1, 0, 2, 3, 3, 4]] prediction str:  ihello\n",
            "32 loss:  0.4735088348388672 prediction:  tensor([[1, 0, 2, 3, 3, 4]]) true Y:  [[1, 0, 2, 3, 3, 4]] prediction str:  ihello\n",
            "33 loss:  0.4723513424396515 prediction:  tensor([[1, 0, 2, 3, 3, 4]]) true Y:  [[1, 0, 2, 3, 3, 4]] prediction str:  ihello\n",
            "34 loss:  0.4714339077472687 prediction:  tensor([[1, 0, 2, 3, 3, 4]]) true Y:  [[1, 0, 2, 3, 3, 4]] prediction str:  ihello\n",
            "35 loss:  0.4704188108444214 prediction:  tensor([[1, 0, 2, 3, 3, 4]]) true Y:  [[1, 0, 2, 3, 3, 4]] prediction str:  ihello\n",
            "36 loss:  0.46937039494514465 prediction:  tensor([[1, 0, 2, 3, 3, 4]]) true Y:  [[1, 0, 2, 3, 3, 4]] prediction str:  ihello\n",
            "37 loss:  0.46859824657440186 prediction:  tensor([[1, 0, 2, 3, 3, 4]]) true Y:  [[1, 0, 2, 3, 3, 4]] prediction str:  ihello\n",
            "38 loss:  0.46793630719184875 prediction:  tensor([[1, 0, 2, 3, 3, 4]]) true Y:  [[1, 0, 2, 3, 3, 4]] prediction str:  ihello\n",
            "39 loss:  0.4672158658504486 prediction:  tensor([[1, 0, 2, 3, 3, 4]]) true Y:  [[1, 0, 2, 3, 3, 4]] prediction str:  ihello\n",
            "40 loss:  0.46666935086250305 prediction:  tensor([[1, 0, 2, 3, 3, 4]]) true Y:  [[1, 0, 2, 3, 3, 4]] prediction str:  ihello\n",
            "41 loss:  0.4662024676799774 prediction:  tensor([[1, 0, 2, 3, 3, 4]]) true Y:  [[1, 0, 2, 3, 3, 4]] prediction str:  ihello\n",
            "42 loss:  0.4656461477279663 prediction:  tensor([[1, 0, 2, 3, 3, 4]]) true Y:  [[1, 0, 2, 3, 3, 4]] prediction str:  ihello\n",
            "43 loss:  0.4651392996311188 prediction:  tensor([[1, 0, 2, 3, 3, 4]]) true Y:  [[1, 0, 2, 3, 3, 4]] prediction str:  ihello\n",
            "44 loss:  0.464724063873291 prediction:  tensor([[1, 0, 2, 3, 3, 4]]) true Y:  [[1, 0, 2, 3, 3, 4]] prediction str:  ihello\n",
            "45 loss:  0.46423324942588806 prediction:  tensor([[1, 0, 2, 3, 3, 4]]) true Y:  [[1, 0, 2, 3, 3, 4]] prediction str:  ihello\n",
            "46 loss:  0.46378087997436523 prediction:  tensor([[1, 0, 2, 3, 3, 4]]) true Y:  [[1, 0, 2, 3, 3, 4]] prediction str:  ihello\n",
            "47 loss:  0.46341845393180847 prediction:  tensor([[1, 0, 2, 3, 3, 4]]) true Y:  [[1, 0, 2, 3, 3, 4]] prediction str:  ihello\n",
            "48 loss:  0.4630284309387207 prediction:  tensor([[1, 0, 2, 3, 3, 4]]) true Y:  [[1, 0, 2, 3, 3, 4]] prediction str:  ihello\n",
            "49 loss:  0.4626704752445221 prediction:  tensor([[1, 0, 2, 3, 3, 4]]) true Y:  [[1, 0, 2, 3, 3, 4]] prediction str:  ihello\n",
            "50 loss:  0.4623919725418091 prediction:  tensor([[1, 0, 2, 3, 3, 4]]) true Y:  [[1, 0, 2, 3, 3, 4]] prediction str:  ihello\n",
            "51 loss:  0.46208274364471436 prediction:  tensor([[1, 0, 2, 3, 3, 4]]) true Y:  [[1, 0, 2, 3, 3, 4]] prediction str:  ihello\n",
            "52 loss:  0.46179118752479553 prediction:  tensor([[1, 0, 2, 3, 3, 4]]) true Y:  [[1, 0, 2, 3, 3, 4]] prediction str:  ihello\n",
            "53 loss:  0.4615437090396881 prediction:  tensor([[1, 0, 2, 3, 3, 4]]) true Y:  [[1, 0, 2, 3, 3, 4]] prediction str:  ihello\n",
            "54 loss:  0.46126484870910645 prediction:  tensor([[1, 0, 2, 3, 3, 4]]) true Y:  [[1, 0, 2, 3, 3, 4]] prediction str:  ihello\n",
            "55 loss:  0.4609971344470978 prediction:  tensor([[1, 0, 2, 3, 3, 4]]) true Y:  [[1, 0, 2, 3, 3, 4]] prediction str:  ihello\n",
            "56 loss:  0.4607633054256439 prediction:  tensor([[1, 0, 2, 3, 3, 4]]) true Y:  [[1, 0, 2, 3, 3, 4]] prediction str:  ihello\n",
            "57 loss:  0.4605078399181366 prediction:  tensor([[1, 0, 2, 3, 3, 4]]) true Y:  [[1, 0, 2, 3, 3, 4]] prediction str:  ihello\n",
            "58 loss:  0.4602770507335663 prediction:  tensor([[1, 0, 2, 3, 3, 4]]) true Y:  [[1, 0, 2, 3, 3, 4]] prediction str:  ihello\n",
            "59 loss:  0.46007034182548523 prediction:  tensor([[1, 0, 2, 3, 3, 4]]) true Y:  [[1, 0, 2, 3, 3, 4]] prediction str:  ihello\n",
            "60 loss:  0.4598514139652252 prediction:  tensor([[1, 0, 2, 3, 3, 4]]) true Y:  [[1, 0, 2, 3, 3, 4]] prediction str:  ihello\n",
            "61 loss:  0.45965632796287537 prediction:  tensor([[1, 0, 2, 3, 3, 4]]) true Y:  [[1, 0, 2, 3, 3, 4]] prediction str:  ihello\n",
            "62 loss:  0.459471195936203 prediction:  tensor([[1, 0, 2, 3, 3, 4]]) true Y:  [[1, 0, 2, 3, 3, 4]] prediction str:  ihello\n",
            "63 loss:  0.4592754542827606 prediction:  tensor([[1, 0, 2, 3, 3, 4]]) true Y:  [[1, 0, 2, 3, 3, 4]] prediction str:  ihello\n",
            "64 loss:  0.4590996503829956 prediction:  tensor([[1, 0, 2, 3, 3, 4]]) true Y:  [[1, 0, 2, 3, 3, 4]] prediction str:  ihello\n",
            "65 loss:  0.4589212238788605 prediction:  tensor([[1, 0, 2, 3, 3, 4]]) true Y:  [[1, 0, 2, 3, 3, 4]] prediction str:  ihello\n",
            "66 loss:  0.4587405025959015 prediction:  tensor([[1, 0, 2, 3, 3, 4]]) true Y:  [[1, 0, 2, 3, 3, 4]] prediction str:  ihello\n",
            "67 loss:  0.45857587456703186 prediction:  tensor([[1, 0, 2, 3, 3, 4]]) true Y:  [[1, 0, 2, 3, 3, 4]] prediction str:  ihello\n",
            "68 loss:  0.45840585231781006 prediction:  tensor([[1, 0, 2, 3, 3, 4]]) true Y:  [[1, 0, 2, 3, 3, 4]] prediction str:  ihello\n",
            "69 loss:  0.45824289321899414 prediction:  tensor([[1, 0, 2, 3, 3, 4]]) true Y:  [[1, 0, 2, 3, 3, 4]] prediction str:  ihello\n",
            "70 loss:  0.4580901861190796 prediction:  tensor([[1, 0, 2, 3, 3, 4]]) true Y:  [[1, 0, 2, 3, 3, 4]] prediction str:  ihello\n",
            "71 loss:  0.4579339325428009 prediction:  tensor([[1, 0, 2, 3, 3, 4]]) true Y:  [[1, 0, 2, 3, 3, 4]] prediction str:  ihello\n",
            "72 loss:  0.4577881395816803 prediction:  tensor([[1, 0, 2, 3, 3, 4]]) true Y:  [[1, 0, 2, 3, 3, 4]] prediction str:  ihello\n",
            "73 loss:  0.45764467120170593 prediction:  tensor([[1, 0, 2, 3, 3, 4]]) true Y:  [[1, 0, 2, 3, 3, 4]] prediction str:  ihello\n",
            "74 loss:  0.45750054717063904 prediction:  tensor([[1, 0, 2, 3, 3, 4]]) true Y:  [[1, 0, 2, 3, 3, 4]] prediction str:  ihello\n",
            "75 loss:  0.457364559173584 prediction:  tensor([[1, 0, 2, 3, 3, 4]]) true Y:  [[1, 0, 2, 3, 3, 4]] prediction str:  ihello\n",
            "76 loss:  0.45722639560699463 prediction:  tensor([[1, 0, 2, 3, 3, 4]]) true Y:  [[1, 0, 2, 3, 3, 4]] prediction str:  ihello\n",
            "77 loss:  0.4570918083190918 prediction:  tensor([[1, 0, 2, 3, 3, 4]]) true Y:  [[1, 0, 2, 3, 3, 4]] prediction str:  ihello\n",
            "78 loss:  0.45696160197257996 prediction:  tensor([[1, 0, 2, 3, 3, 4]]) true Y:  [[1, 0, 2, 3, 3, 4]] prediction str:  ihello\n",
            "79 loss:  0.45683014392852783 prediction:  tensor([[1, 0, 2, 3, 3, 4]]) true Y:  [[1, 0, 2, 3, 3, 4]] prediction str:  ihello\n",
            "80 loss:  0.4567047357559204 prediction:  tensor([[1, 0, 2, 3, 3, 4]]) true Y:  [[1, 0, 2, 3, 3, 4]] prediction str:  ihello\n",
            "81 loss:  0.4565803110599518 prediction:  tensor([[1, 0, 2, 3, 3, 4]]) true Y:  [[1, 0, 2, 3, 3, 4]] prediction str:  ihello\n",
            "82 loss:  0.45645788311958313 prediction:  tensor([[1, 0, 2, 3, 3, 4]]) true Y:  [[1, 0, 2, 3, 3, 4]] prediction str:  ihello\n",
            "83 loss:  0.45633992552757263 prediction:  tensor([[1, 0, 2, 3, 3, 4]]) true Y:  [[1, 0, 2, 3, 3, 4]] prediction str:  ihello\n",
            "84 loss:  0.45622149109840393 prediction:  tensor([[1, 0, 2, 3, 3, 4]]) true Y:  [[1, 0, 2, 3, 3, 4]] prediction str:  ihello\n",
            "85 loss:  0.45610687136650085 prediction:  tensor([[1, 0, 2, 3, 3, 4]]) true Y:  [[1, 0, 2, 3, 3, 4]] prediction str:  ihello\n",
            "86 loss:  0.45599329471588135 prediction:  tensor([[1, 0, 2, 3, 3, 4]]) true Y:  [[1, 0, 2, 3, 3, 4]] prediction str:  ihello\n",
            "87 loss:  0.4558808505535126 prediction:  tensor([[1, 0, 2, 3, 3, 4]]) true Y:  [[1, 0, 2, 3, 3, 4]] prediction str:  ihello\n",
            "88 loss:  0.45577144622802734 prediction:  tensor([[1, 0, 2, 3, 3, 4]]) true Y:  [[1, 0, 2, 3, 3, 4]] prediction str:  ihello\n",
            "89 loss:  0.4556620419025421 prediction:  tensor([[1, 0, 2, 3, 3, 4]]) true Y:  [[1, 0, 2, 3, 3, 4]] prediction str:  ihello\n",
            "90 loss:  0.45555540919303894 prediction:  tensor([[1, 0, 2, 3, 3, 4]]) true Y:  [[1, 0, 2, 3, 3, 4]] prediction str:  ihello\n",
            "91 loss:  0.45545002818107605 prediction:  tensor([[1, 0, 2, 3, 3, 4]]) true Y:  [[1, 0, 2, 3, 3, 4]] prediction str:  ihello\n",
            "92 loss:  0.4553459882736206 prediction:  tensor([[1, 0, 2, 3, 3, 4]]) true Y:  [[1, 0, 2, 3, 3, 4]] prediction str:  ihello\n",
            "93 loss:  0.4552443027496338 prediction:  tensor([[1, 0, 2, 3, 3, 4]]) true Y:  [[1, 0, 2, 3, 3, 4]] prediction str:  ihello\n",
            "94 loss:  0.4551433026790619 prediction:  tensor([[1, 0, 2, 3, 3, 4]]) true Y:  [[1, 0, 2, 3, 3, 4]] prediction str:  ihello\n",
            "95 loss:  0.4550445079803467 prediction:  tensor([[1, 0, 2, 3, 3, 4]]) true Y:  [[1, 0, 2, 3, 3, 4]] prediction str:  ihello\n",
            "96 loss:  0.4549466669559479 prediction:  tensor([[1, 0, 2, 3, 3, 4]]) true Y:  [[1, 0, 2, 3, 3, 4]] prediction str:  ihello\n",
            "97 loss:  0.45485004782676697 prediction:  tensor([[1, 0, 2, 3, 3, 4]]) true Y:  [[1, 0, 2, 3, 3, 4]] prediction str:  ihello\n",
            "98 loss:  0.45475515723228455 prediction:  tensor([[1, 0, 2, 3, 3, 4]]) true Y:  [[1, 0, 2, 3, 3, 4]] prediction str:  ihello\n",
            "99 loss:  0.45466098189353943 prediction:  tensor([[1, 0, 2, 3, 3, 4]]) true Y:  [[1, 0, 2, 3, 3, 4]] prediction str:  ihello\n"
          ],
          "name": "stdout"
        }
      ]
    },
    {
      "cell_type": "code",
      "metadata": {
        "id": "papezfV2cLE_"
      },
      "source": [
        ""
      ],
      "execution_count": null,
      "outputs": []
    }
  ]
}