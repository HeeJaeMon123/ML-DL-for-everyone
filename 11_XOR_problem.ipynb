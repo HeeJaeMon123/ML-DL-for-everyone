{
  "nbformat": 4,
  "nbformat_minor": 0,
  "metadata": {
    "colab": {
      "name": "XOR_problem.ipynb",
      "provenance": [],
      "collapsed_sections": []
    },
    "kernelspec": {
      "name": "python3",
      "display_name": "Python 3"
    },
    "language_info": {
      "name": "python"
    },
    "accelerator": "GPU"
  },
  "cells": [
    {
      "cell_type": "markdown",
      "metadata": {
        "id": "pUn-U4I8VidV"
      },
      "source": [
        "# 단층 퍼셉트론으론 XOR 문제 못품"
      ]
    },
    {
      "cell_type": "code",
      "metadata": {
        "id": "xuLMt5uoPnRL"
      },
      "source": [
        "import torch\n",
        "import torch.nn as nn\n",
        "import torch.nn.functional as F"
      ],
      "execution_count": 1,
      "outputs": []
    },
    {
      "cell_type": "code",
      "metadata": {
        "colab": {
          "base_uri": "https://localhost:8080/"
        },
        "id": "k_eljiR4S90j",
        "outputId": "a03346b5-613a-40e8-bb88-299140bc7be4"
      },
      "source": [
        "device = 'cuda' if torch.cuda.is_available() else 'cpu'\n",
        "torch.manual_seed(777)\n",
        "if device == 'cuda':\n",
        "  print(device)\n",
        "  torch.cuda.manual_seed_all(777)"
      ],
      "execution_count": 2,
      "outputs": [
        {
          "output_type": "stream",
          "text": [
            "cuda\n"
          ],
          "name": "stdout"
        }
      ]
    },
    {
      "cell_type": "code",
      "metadata": {
        "id": "x6Fr3WydTLUg"
      },
      "source": [
        "X = torch.FloatTensor([[0,0],[0,1],[1,0],[1,1]]).to(device)\n",
        "y = torch.FloatTensor([[0],[1],[1],[0]]).to(device)"
      ],
      "execution_count": 3,
      "outputs": []
    },
    {
      "cell_type": "code",
      "metadata": {
        "id": "VzTEGq9CTeiJ"
      },
      "source": [
        "linear = nn.Linear(2,1, bias=True)\n",
        "sigmoid = nn.Sigmoid()\n",
        "model = nn.Sequential(linear,sigmoid).to(device)"
      ],
      "execution_count": 4,
      "outputs": []
    },
    {
      "cell_type": "code",
      "metadata": {
        "id": "I6oTxAnzTxrI"
      },
      "source": [
        "# criterion = F.binary_cross_entropy()\n",
        "criterion = nn.BCELoss().to(device)\n",
        "optimizer = torch.optim.SGD(model.parameters(), lr=1)"
      ],
      "execution_count": 5,
      "outputs": []
    },
    {
      "cell_type": "code",
      "metadata": {
        "id": "GgcK8Bh8UxlI",
        "colab": {
          "base_uri": "https://localhost:8080/"
        },
        "outputId": "35df5e13-3c74-425d-e49a-f219c8864f4b"
      },
      "source": [
        "for step in range(10001):\n",
        "  hypothesis = model(X)\n",
        "  cost = criterion(hypothesis, y)\n",
        "\n",
        "  optimizer.zero_grad()\n",
        "  cost.backward()\n",
        "  optimizer.step()\n",
        "\n",
        "  if step % 1000 ==0:\n",
        "    print(step, cost.item())"
      ],
      "execution_count": 6,
      "outputs": [
        {
          "output_type": "stream",
          "text": [
            "0 0.7273974418640137\n",
            "1000 0.6931471824645996\n",
            "2000 0.6931471824645996\n",
            "3000 0.6931471824645996\n",
            "4000 0.6931471824645996\n",
            "5000 0.6931471824645996\n",
            "6000 0.6931471824645996\n",
            "7000 0.6931471824645996\n",
            "8000 0.6931471824645996\n",
            "9000 0.6931471824645996\n",
            "10000 0.6931471824645996\n"
          ],
          "name": "stdout"
        }
      ]
    },
    {
      "cell_type": "code",
      "metadata": {
        "id": "I0SP1gkgVGvS",
        "colab": {
          "base_uri": "https://localhost:8080/"
        },
        "outputId": "e11ad145-1d75-4613-cc8a-95856fdb6923"
      },
      "source": [
        "#test시 with torch.no_grad() 사용하기 \n",
        "with torch.no_grad():\n",
        "  hypothesis = model(X)\n",
        "  print(type(hypothesis))\n",
        "  print(hypothesis)\n",
        "  predicted = (hypothesis > 0.5).float()\n",
        "  acc = (predicted== y).float().mean()\n",
        "  # print(hypothesis)"
      ],
      "execution_count": 7,
      "outputs": [
        {
          "output_type": "stream",
          "text": [
            "<class 'torch.Tensor'>\n",
            "tensor([[0.5000],\n",
            "        [0.5000],\n",
            "        [0.5000],\n",
            "        [0.5000]], device='cuda:0')\n"
          ],
          "name": "stdout"
        }
      ]
    },
    {
      "cell_type": "markdown",
      "metadata": {
        "id": "fE7vBgxl1iv_"
      },
      "source": [
        "# backpropagation by hands"
      ]
    },
    {
      "cell_type": "code",
      "metadata": {
        "id": "szIcB_AP1h3J"
      },
      "source": [
        "X = torch.FloatTensor([[0, 0], [0, 1], [1, 0], [1, 1]]).to(device)\n",
        "y = torch.FloatTensor([[0], [1], [1], [0]]).to(device)"
      ],
      "execution_count": 17,
      "outputs": []
    },
    {
      "cell_type": "code",
      "metadata": {
        "id": "A3p_1U84A-xH"
      },
      "source": [
        "w1 = torch.Tensor(2,2).to(device)\n",
        "b1 = torch.Tensor(2).to(device)\n",
        "w2 = torch.Tensor(2,1).to(device)\n",
        "b2 = torch.Tensor(1).to(device)"
      ],
      "execution_count": 30,
      "outputs": []
    },
    {
      "cell_type": "code",
      "metadata": {
        "colab": {
          "base_uri": "https://localhost:8080/"
        },
        "id": "dsguQLrqBK5v",
        "outputId": "5aef7106-387f-4e5d-805f-486b021b6078"
      },
      "source": [
        "w1, b1, w2,b2"
      ],
      "execution_count": 31,
      "outputs": [
        {
          "output_type": "execute_result",
          "data": {
            "text/plain": [
              "(tensor([[-5.0814e+20,  3.0704e-41],\n",
              "         [ 0.0000e+00,  0.0000e+00]], device='cuda:0'),\n",
              " tensor([-5.0814e+20,  3.0704e-41], device='cuda:0'),\n",
              " tensor([[-5.0814e+20],\n",
              "         [ 3.0704e-41]], device='cuda:0'),\n",
              " tensor([-5.0814e+20], device='cuda:0'))"
            ]
          },
          "metadata": {
            "tags": []
          },
          "execution_count": 31
        }
      ]
    },
    {
      "cell_type": "code",
      "metadata": {
        "id": "4hClkYMqBK35"
      },
      "source": [
        "def sigmoid(x):\n",
        "  return 1.0/(1.0+torch.exp(-x))"
      ],
      "execution_count": 32,
      "outputs": []
    },
    {
      "cell_type": "code",
      "metadata": {
        "id": "fW-0WfPzBKzP"
      },
      "source": [
        "def sigmoid_prime(x):\n",
        "  return sigmoid(x)*(1.0-sigmoid(x))"
      ],
      "execution_count": 33,
      "outputs": []
    },
    {
      "cell_type": "code",
      "metadata": {
        "colab": {
          "base_uri": "https://localhost:8080/"
        },
        "id": "cCkWXsr-BKw2",
        "outputId": "5a4b33c0-f1ca-4d08-e061-1942bb055610"
      },
      "source": [
        "for step in range(10001):\n",
        "  z1 = torch.add(torch.matmul(X,w1),b1)\n",
        "  a1 = sigmoid(z1)\n",
        "  z2 = torch.add(torch.matmul(a1,w2),b2)\n",
        "  y_pred = sigmoid(z2)\n",
        "  \n",
        "  cost = -torch.mean(y*torch.log(y_pred)+(1.0-y)*torch.log(1.0-y_pred))\n",
        "\n",
        "  d_y_pred = (y_pred-y)/(y_pred*(1.0-y_pred)+1e-7)\n",
        "\n",
        "  d_z2 = d_y_pred * sigmoid_prime(z2)\n",
        "  d_b2 = d_z2\n",
        "  d_w2 = torch.matmul(torch.transpose(a1,0,1),d_b2)\n",
        "\n",
        "  d_a1 = torch.matmul(d_b2,torch.transpose(w2,0,1)) \n",
        "  d_z1 = d_a1 * sigmoid_prime(z1)\n",
        "  d_b1 = d_z1\n",
        "  d_w1 = torch.matmul(torch.transpose(X,0,1),d_b1)\n",
        "\n",
        "  w1 = w1 - 0.1*d_w1\n",
        "  b1 = b1-0.1*torch.mean(d_b1,0)\n",
        "  w2 = w2 - 0.1*d_w2\n",
        "  b2 = b2-0.1*torch.mean(d_b2,0)\n",
        "  if step%1000==0:\n",
        "    print('-'*50)\n",
        "    print(z1)\n",
        "    print(w1,b1)\n",
        "    print(step, cost.item())"
      ],
      "execution_count": 34,
      "outputs": [
        {
          "output_type": "stream",
          "text": [
            "--------------------------------------------------\n",
            "tensor([[-5.0814e+20,  3.0704e-41],\n",
            "        [-5.0814e+20,  3.0704e-41],\n",
            "        [-1.0163e+21,  6.1408e-41],\n",
            "        [-1.0163e+21,  6.1408e-41]], device='cuda:0')\n",
            "tensor([[-5.0814e+20,  3.0704e-41],\n",
            "        [ 0.0000e+00,  0.0000e+00]], device='cuda:0') tensor([-5.0814e+20,  3.0704e-41], device='cuda:0')\n",
            "0 nan\n",
            "--------------------------------------------------\n",
            "tensor([[-5.0814e+20,  3.0704e-41],\n",
            "        [-5.0814e+20,  3.0704e-41],\n",
            "        [-1.0163e+21,  6.1408e-41],\n",
            "        [-1.0163e+21,  6.1408e-41]], device='cuda:0')\n",
            "tensor([[-5.0814e+20,  3.0704e-41],\n",
            "        [ 0.0000e+00,  0.0000e+00]], device='cuda:0') tensor([-5.0814e+20,  3.0704e-41], device='cuda:0')\n",
            "1000 nan\n",
            "--------------------------------------------------\n",
            "tensor([[-5.0814e+20,  3.0704e-41],\n",
            "        [-5.0814e+20,  3.0704e-41],\n",
            "        [-1.0163e+21,  6.1408e-41],\n",
            "        [-1.0163e+21,  6.1408e-41]], device='cuda:0')\n",
            "tensor([[-5.0814e+20,  3.0704e-41],\n",
            "        [ 0.0000e+00,  0.0000e+00]], device='cuda:0') tensor([-5.0814e+20,  3.0704e-41], device='cuda:0')\n",
            "2000 nan\n",
            "--------------------------------------------------\n",
            "tensor([[-5.0814e+20,  3.0704e-41],\n",
            "        [-5.0814e+20,  3.0704e-41],\n",
            "        [-1.0163e+21,  6.1408e-41],\n",
            "        [-1.0163e+21,  6.1408e-41]], device='cuda:0')\n",
            "tensor([[-5.0814e+20,  3.0704e-41],\n",
            "        [ 0.0000e+00,  0.0000e+00]], device='cuda:0') tensor([-5.0814e+20,  3.0704e-41], device='cuda:0')\n",
            "3000 nan\n",
            "--------------------------------------------------\n",
            "tensor([[-5.0814e+20,  3.0704e-41],\n",
            "        [-5.0814e+20,  3.0704e-41],\n",
            "        [-1.0163e+21,  6.1408e-41],\n",
            "        [-1.0163e+21,  6.1408e-41]], device='cuda:0')\n",
            "tensor([[-5.0814e+20,  3.0704e-41],\n",
            "        [ 0.0000e+00,  0.0000e+00]], device='cuda:0') tensor([-5.0814e+20,  3.0704e-41], device='cuda:0')\n",
            "4000 nan\n",
            "--------------------------------------------------\n",
            "tensor([[-5.0814e+20,  3.0704e-41],\n",
            "        [-5.0814e+20,  3.0704e-41],\n",
            "        [-1.0163e+21,  6.1408e-41],\n",
            "        [-1.0163e+21,  6.1408e-41]], device='cuda:0')\n",
            "tensor([[-5.0814e+20,  3.0704e-41],\n",
            "        [ 0.0000e+00,  0.0000e+00]], device='cuda:0') tensor([-5.0814e+20,  3.0704e-41], device='cuda:0')\n",
            "5000 nan\n",
            "--------------------------------------------------\n",
            "tensor([[-5.0814e+20,  3.0704e-41],\n",
            "        [-5.0814e+20,  3.0704e-41],\n",
            "        [-1.0163e+21,  6.1408e-41],\n",
            "        [-1.0163e+21,  6.1408e-41]], device='cuda:0')\n",
            "tensor([[-5.0814e+20,  3.0704e-41],\n",
            "        [ 0.0000e+00,  0.0000e+00]], device='cuda:0') tensor([-5.0814e+20,  3.0704e-41], device='cuda:0')\n",
            "6000 nan\n",
            "--------------------------------------------------\n",
            "tensor([[-5.0814e+20,  3.0704e-41],\n",
            "        [-5.0814e+20,  3.0704e-41],\n",
            "        [-1.0163e+21,  6.1408e-41],\n",
            "        [-1.0163e+21,  6.1408e-41]], device='cuda:0')\n",
            "tensor([[-5.0814e+20,  3.0704e-41],\n",
            "        [ 0.0000e+00,  0.0000e+00]], device='cuda:0') tensor([-5.0814e+20,  3.0704e-41], device='cuda:0')\n",
            "7000 nan\n",
            "--------------------------------------------------\n",
            "tensor([[-5.0814e+20,  3.0704e-41],\n",
            "        [-5.0814e+20,  3.0704e-41],\n",
            "        [-1.0163e+21,  6.1408e-41],\n",
            "        [-1.0163e+21,  6.1408e-41]], device='cuda:0')\n",
            "tensor([[-5.0814e+20,  3.0704e-41],\n",
            "        [ 0.0000e+00,  0.0000e+00]], device='cuda:0') tensor([-5.0814e+20,  3.0704e-41], device='cuda:0')\n",
            "8000 nan\n",
            "--------------------------------------------------\n",
            "tensor([[-5.0814e+20,  3.0704e-41],\n",
            "        [-5.0814e+20,  3.0704e-41],\n",
            "        [-1.0163e+21,  6.1408e-41],\n",
            "        [-1.0163e+21,  6.1408e-41]], device='cuda:0')\n",
            "tensor([[-5.0814e+20,  3.0704e-41],\n",
            "        [ 0.0000e+00,  0.0000e+00]], device='cuda:0') tensor([-5.0814e+20,  3.0704e-41], device='cuda:0')\n",
            "9000 nan\n",
            "--------------------------------------------------\n",
            "tensor([[-5.0814e+20,  3.0704e-41],\n",
            "        [-5.0814e+20,  3.0704e-41],\n",
            "        [-1.0163e+21,  6.1408e-41],\n",
            "        [-1.0163e+21,  6.1408e-41]], device='cuda:0')\n",
            "tensor([[-5.0814e+20,  3.0704e-41],\n",
            "        [ 0.0000e+00,  0.0000e+00]], device='cuda:0') tensor([-5.0814e+20,  3.0704e-41], device='cuda:0')\n",
            "10000 nan\n"
          ],
          "name": "stdout"
        }
      ]
    },
    {
      "cell_type": "markdown",
      "metadata": {
        "id": "zBb8cHtMVhgJ"
      },
      "source": [
        "# MLP로 해결"
      ]
    },
    {
      "cell_type": "code",
      "metadata": {
        "id": "IeVPs2hDVqq5"
      },
      "source": [
        "device = 'cuda' if torch.cuda.is_available() else 'cpu'\n",
        "\n",
        "torch.manual_seed(777)\n",
        "if device== 'cuda':\n",
        "  torch.cuda.manual_seed_all(777)"
      ],
      "execution_count": 35,
      "outputs": []
    },
    {
      "cell_type": "code",
      "metadata": {
        "id": "OySXYCyIG0Be"
      },
      "source": [
        "X = torch.FloatTensor([[0, 0], [0, 1], [1, 0], [1, 1]]).to(device)\n",
        "y = torch.FloatTensor([[0], [1], [1], [0]]).to(device)"
      ],
      "execution_count": 36,
      "outputs": []
    },
    {
      "cell_type": "code",
      "metadata": {
        "id": "mkJeKDxKG1fm"
      },
      "source": [
        "model = nn.Sequential(\n",
        "    nn.Linear(2,10,bias=True),\n",
        "    nn.Sigmoid(),\n",
        "\n",
        "    nn.Linear(10,10, bias = True),\n",
        "    nn.Sigmoid(),\n",
        "\n",
        "    nn.Linear(10,10, bias = True),\n",
        "    nn.Sigmoid(),\n",
        "\n",
        "    nn.Linear(10,1, bias = True),\n",
        "    nn.Sigmoid()\n",
        ").to(device)"
      ],
      "execution_count": 45,
      "outputs": []
    },
    {
      "cell_type": "code",
      "metadata": {
        "id": "oYbrdcFrHUv_"
      },
      "source": [
        "criterion = nn.BCELoss().to(device)\n",
        "optimizer = torch.optim.SGD(model.parameters(), lr=1)"
      ],
      "execution_count": 46,
      "outputs": []
    },
    {
      "cell_type": "code",
      "metadata": {
        "colab": {
          "base_uri": "https://localhost:8080/"
        },
        "id": "QTYyxNEaHyY4",
        "outputId": "5efefe4c-48ac-4c52-f312-3c16b2416f19"
      },
      "source": [
        "for epoch in range(10001):\n",
        "  hypothesis = model(X)\n",
        "\n",
        "  cost = criterion(hypothesis, y)\n",
        "\n",
        "  optimizer.zero_grad()\n",
        "  cost.backward()\n",
        "  optimizer.step()\n",
        "\n",
        "  if epoch % 1000 == 0:\n",
        "    print(epoch, cost.item())"
      ],
      "execution_count": 48,
      "outputs": [
        {
          "output_type": "stream",
          "text": [
            "0 0.00019202051043976098\n",
            "1000 0.00015628107939846814\n",
            "2000 0.00013155638589523733\n",
            "3000 0.00011347897816449404\n",
            "4000 9.967898949980736e-05\n",
            "5000 8.881498069968075e-05\n",
            "6000 8.00374400569126e-05\n",
            "7000 7.283960439963266e-05\n",
            "8000 6.680420483462512e-05\n",
            "9000 6.167787068989128e-05\n",
            "10000 5.723704816773534e-05\n"
          ],
          "name": "stdout"
        }
      ]
    },
    {
      "cell_type": "code",
      "metadata": {
        "colab": {
          "base_uri": "https://localhost:8080/"
        },
        "id": "Cg-3kabuHnXP",
        "outputId": "cd2f2b9b-522b-4e22-b5d4-7faff30d9c3c"
      },
      "source": [
        "with torch.no_grad():\n",
        "  hypothesis = model(X)\n",
        "  predicted = (hypothesis > 0.5).float()\n",
        "  acc = (predicted == y).float().mean()\n",
        "  print(predicted)\n",
        "  print(y)\n",
        "  print(acc)"
      ],
      "execution_count": 50,
      "outputs": [
        {
          "output_type": "stream",
          "text": [
            "tensor([[0.],\n",
            "        [1.],\n",
            "        [1.],\n",
            "        [0.]], device='cuda:0')\n",
            "tensor([[0.],\n",
            "        [1.],\n",
            "        [1.],\n",
            "        [0.]], device='cuda:0')\n",
            "tensor(1., device='cuda:0')\n"
          ],
          "name": "stdout"
        }
      ]
    },
    {
      "cell_type": "code",
      "metadata": {
        "id": "j6LgalibIYiW"
      },
      "source": [
        ""
      ],
      "execution_count": null,
      "outputs": []
    }
  ]
}
