{
 "cells": [
  {
   "cell_type": "code",
   "execution_count": 1,
   "metadata": {
    "ExecuteTime": {
     "end_time": "2021-07-15T08:25:09.250032Z",
     "start_time": "2021-07-15T08:25:06.992413Z"
    }
   },
   "outputs": [],
   "source": [
    "import torchvision\n",
    "from torchvision import transforms\n",
    "import torch.nn as nn\n",
    "from torch.utils.data import DataLoader\n",
    "import torch\n",
    "import torch.nn.functional as F"
   ]
  },
  {
   "cell_type": "code",
   "execution_count": 2,
   "metadata": {
    "ExecuteTime": {
     "end_time": "2021-07-15T08:25:09.280612Z",
     "start_time": "2021-07-15T08:25:09.253402Z"
    }
   },
   "outputs": [],
   "source": [
    "\n",
    "device = 'cuda' if torch.cuda.is_available() else 'cpu'\n",
    "\n",
    "torch.manual_seed(777)\n",
    "if device == 'cuda':\n",
    "    torch.cuda.manual_seed_all(777)"
   ]
  },
  {
   "cell_type": "code",
   "execution_count": 3,
   "metadata": {
    "ExecuteTime": {
     "end_time": "2021-07-15T08:25:09.957490Z",
     "start_time": "2021-07-15T08:25:09.285399Z"
    }
   },
   "outputs": [],
   "source": [
    "from matplotlib.pyplot import imshow\n",
    "%matplotlib inline"
   ]
  },
  {
   "cell_type": "code",
   "execution_count": 24,
   "metadata": {
    "ExecuteTime": {
     "end_time": "2021-07-15T08:29:12.412327Z",
     "start_time": "2021-07-15T08:29:12.392915Z"
    }
   },
   "outputs": [],
   "source": [
    "trans = transforms.Compose([\n",
    "    transforms.ToTensor()\n",
    "])\n",
    "\n",
    "train_data = torchvision.datasets.ImageFolder(root=\"train_data\", transform=trans)"
   ]
  },
  {
   "cell_type": "code",
   "execution_count": 25,
   "metadata": {
    "ExecuteTime": {
     "end_time": "2021-07-15T08:29:13.623979Z",
     "start_time": "2021-07-15T08:29:13.575885Z"
    }
   },
   "outputs": [
    {
     "name": "stdout",
     "output_type": "stream",
     "text": [
      "0 tensor([[[0.7412, 0.7373, 0.7294,  ..., 0.5059, 0.5059, 0.5020],\n",
      "         [0.7373, 0.7333, 0.7294,  ..., 0.4941, 0.4941, 0.4863],\n",
      "         [0.7373, 0.7333, 0.7333,  ..., 0.4824, 0.4745, 0.4706],\n",
      "         ...,\n",
      "         [0.7725, 0.7569, 0.7412,  ..., 0.4431, 0.4471, 0.4510],\n",
      "         [0.8039, 0.7804, 0.7529,  ..., 0.4392, 0.4353, 0.4392],\n",
      "         [0.8314, 0.7961, 0.7608,  ..., 0.4314, 0.4275, 0.4275]],\n",
      "\n",
      "        [[0.7412, 0.7373, 0.7294,  ..., 0.5255, 0.5255, 0.5216],\n",
      "         [0.7373, 0.7333, 0.7294,  ..., 0.5137, 0.5137, 0.5059],\n",
      "         [0.7373, 0.7333, 0.7333,  ..., 0.4902, 0.4824, 0.4784],\n",
      "         ...,\n",
      "         [0.9098, 0.8941, 0.8784,  ..., 0.4275, 0.4314, 0.4353],\n",
      "         [0.9490, 0.9176, 0.8902,  ..., 0.4235, 0.4196, 0.4235],\n",
      "         [0.9765, 0.9412, 0.8980,  ..., 0.4157, 0.4118, 0.4118]],\n",
      "\n",
      "        [[0.7333, 0.7294, 0.7216,  ..., 0.5020, 0.5020, 0.4980],\n",
      "         [0.7294, 0.7255, 0.7216,  ..., 0.4902, 0.4902, 0.4824],\n",
      "         [0.7294, 0.7255, 0.7255,  ..., 0.4706, 0.4627, 0.4588],\n",
      "         ...,\n",
      "         [0.9333, 0.9176, 0.9020,  ..., 0.3804, 0.3843, 0.3882],\n",
      "         [0.9725, 0.9412, 0.9137,  ..., 0.3765, 0.3725, 0.3765],\n",
      "         [1.0000, 0.9647, 0.9216,  ..., 0.3686, 0.3647, 0.3647]]]) 1\n"
     ]
    },
    {
     "ename": "AttributeError",
     "evalue": "'Tensor' object has no attribute 'save'",
     "output_type": "error",
     "traceback": [
      "\u001b[1;31m---------------------------------------------------------------------------\u001b[0m",
      "\u001b[1;31mAttributeError\u001b[0m                            Traceback (most recent call last)",
      "\u001b[1;32m<ipython-input-25-1fc672a76543>\u001b[0m in \u001b[0;36m<module>\u001b[1;34m\u001b[0m\n\u001b[0;32m      5\u001b[0m         \u001b[0mdata\u001b[0m\u001b[1;33m.\u001b[0m\u001b[0msave\u001b[0m\u001b[1;33m(\u001b[0m\u001b[1;34m'train_data/gray/%d_%d.jpeg'\u001b[0m\u001b[1;33m%\u001b[0m\u001b[1;33m(\u001b[0m\u001b[0mn\u001b[0m\u001b[1;33m,\u001b[0m \u001b[0mlabel\u001b[0m\u001b[1;33m)\u001b[0m\u001b[1;33m)\u001b[0m\u001b[1;33m\u001b[0m\u001b[1;33m\u001b[0m\u001b[0m\n\u001b[0;32m      6\u001b[0m     \u001b[1;32melse\u001b[0m\u001b[1;33m:\u001b[0m\u001b[1;33m\u001b[0m\u001b[1;33m\u001b[0m\u001b[0m\n\u001b[1;32m----> 7\u001b[1;33m         \u001b[0mdata\u001b[0m\u001b[1;33m.\u001b[0m\u001b[0msave\u001b[0m\u001b[1;33m(\u001b[0m\u001b[1;34m'train_data/gray/%d_%d.jpeg'\u001b[0m\u001b[1;33m%\u001b[0m\u001b[1;33m(\u001b[0m\u001b[0mn\u001b[0m\u001b[1;33m,\u001b[0m \u001b[0mlabel\u001b[0m\u001b[1;33m)\u001b[0m\u001b[1;33m)\u001b[0m\u001b[1;33m\u001b[0m\u001b[1;33m\u001b[0m\u001b[0m\n\u001b[0m",
      "\u001b[1;31mAttributeError\u001b[0m: 'Tensor' object has no attribute 'save'"
     ]
    }
   ],
   "source": [
    "for n,value in enumerate(train_data):\n",
    "    data, label = value\n",
    "    print(n,data,label)\n",
    "    if(label ==0):\n",
    "        data.save('train_data/gray/%d_%d.jpeg'%(n, label))\n",
    "    else:\n",
    "        data.save('train_data/gray/%d_%d.jpeg'%(n, label))"
   ]
  },
  {
   "cell_type": "code",
   "execution_count": 26,
   "metadata": {
    "ExecuteTime": {
     "end_time": "2021-07-15T08:29:14.982127Z",
     "start_time": "2021-07-15T08:29:14.967137Z"
    }
   },
   "outputs": [
    {
     "data": {
      "text/plain": [
       "Conv2d(3, 6, kernel_size=(5, 5), stride=(1, 1))"
      ]
     },
     "execution_count": 26,
     "metadata": {},
     "output_type": "execute_result"
    }
   ],
   "source": [
    "nn.Conv2d(3,6,kernel_size=5,stride=1)"
   ]
  },
  {
   "cell_type": "code",
   "execution_count": 27,
   "metadata": {
    "ExecuteTime": {
     "end_time": "2021-07-15T08:29:15.615840Z",
     "start_time": "2021-07-15T08:29:15.590635Z"
    }
   },
   "outputs": [
    {
     "data": {
      "text/plain": [
       "(tensor([[[0.7412, 0.7373, 0.7294,  ..., 0.5059, 0.5059, 0.5020],\n",
       "          [0.7373, 0.7333, 0.7294,  ..., 0.4941, 0.4941, 0.4863],\n",
       "          [0.7373, 0.7333, 0.7333,  ..., 0.4824, 0.4745, 0.4706],\n",
       "          ...,\n",
       "          [0.7725, 0.7569, 0.7412,  ..., 0.4431, 0.4471, 0.4510],\n",
       "          [0.8039, 0.7804, 0.7529,  ..., 0.4392, 0.4353, 0.4392],\n",
       "          [0.8314, 0.7961, 0.7608,  ..., 0.4314, 0.4275, 0.4275]],\n",
       " \n",
       "         [[0.7412, 0.7373, 0.7294,  ..., 0.5255, 0.5255, 0.5216],\n",
       "          [0.7373, 0.7333, 0.7294,  ..., 0.5137, 0.5137, 0.5059],\n",
       "          [0.7373, 0.7333, 0.7333,  ..., 0.4902, 0.4824, 0.4784],\n",
       "          ...,\n",
       "          [0.9098, 0.8941, 0.8784,  ..., 0.4275, 0.4314, 0.4353],\n",
       "          [0.9490, 0.9176, 0.8902,  ..., 0.4235, 0.4196, 0.4235],\n",
       "          [0.9765, 0.9412, 0.8980,  ..., 0.4157, 0.4118, 0.4118]],\n",
       " \n",
       "         [[0.7333, 0.7294, 0.7216,  ..., 0.5020, 0.5020, 0.4980],\n",
       "          [0.7294, 0.7255, 0.7216,  ..., 0.4902, 0.4902, 0.4824],\n",
       "          [0.7294, 0.7255, 0.7255,  ..., 0.4706, 0.4627, 0.4588],\n",
       "          ...,\n",
       "          [0.9333, 0.9176, 0.9020,  ..., 0.3804, 0.3843, 0.3882],\n",
       "          [0.9725, 0.9412, 0.9137,  ..., 0.3765, 0.3725, 0.3765],\n",
       "          [1.0000, 0.9647, 0.9216,  ..., 0.3686, 0.3647, 0.3647]]]),\n",
       " 1)"
      ]
     },
     "execution_count": 27,
     "metadata": {},
     "output_type": "execute_result"
    }
   ],
   "source": [
    "train_data[0]"
   ]
  },
  {
   "cell_type": "code",
   "execution_count": 28,
   "metadata": {
    "ExecuteTime": {
     "end_time": "2021-07-15T08:29:16.128300Z",
     "start_time": "2021-07-15T08:29:16.119264Z"
    }
   },
   "outputs": [],
   "source": [
    "data_loader = DataLoader(dataset=train_data, batch_size=8, shuffle=True, num_workers=2)"
   ]
  },
  {
   "cell_type": "code",
   "execution_count": 73,
   "metadata": {
    "ExecuteTime": {
     "end_time": "2021-07-15T09:51:48.905421Z",
     "start_time": "2021-07-15T09:51:48.897421Z"
    }
   },
   "outputs": [],
   "source": [
    "class CNN(nn.Module):\n",
    "    def __init__(self):\n",
    "        super(CNN,self).__init__()\n",
    "        self.layer1 = nn.Sequential(\n",
    "            nn.Conv2d(3,6,kernel_size=5, stride=1),\n",
    "            nn.ReLU(),\n",
    "            nn.MaxPool2d(2)\n",
    "        )\n",
    "        \n",
    "        self.layer2 = nn.Sequential(\n",
    "            nn.Conv2d(6,16,kernel_size=5, stride=1),\n",
    "            nn.ReLU(),\n",
    "            nn.MaxPool2d(2)\n",
    "        )\n",
    "        \n",
    "        self.layer3 = nn.Sequential(\n",
    "            nn.Linear(16*13*29,120),\n",
    "            nn.ReLU(),\n",
    "            nn.Linear(120,2)\n",
    "        )\n",
    "        \n",
    "        \n",
    "    def forward(self, x):\n",
    "        out = self.layer1(x)\n",
    "#         print(out.shape)\n",
    "        out = self.layer2(out)\n",
    "#         print(out.shape)\n",
    "        out = out.view(out.shape[0],-1)\n",
    "#         print(out.shape)\n",
    "        out = self.layer3(out)\n",
    "        return out"
   ]
  },
  {
   "cell_type": "code",
   "execution_count": 74,
   "metadata": {
    "ExecuteTime": {
     "end_time": "2021-07-15T09:51:49.360584Z",
     "start_time": "2021-07-15T09:51:49.322571Z"
    }
   },
   "outputs": [],
   "source": [
    "net = CNN().to(device)\n",
    "test_input = (torch.Tensor(3,3,64,128)).to(device)\n",
    "test_out = net(test_input)"
   ]
  },
  {
   "cell_type": "code",
   "execution_count": 75,
   "metadata": {
    "ExecuteTime": {
     "end_time": "2021-07-15T09:51:50.082654Z",
     "start_time": "2021-07-15T09:51:50.073655Z"
    }
   },
   "outputs": [],
   "source": [
    "optimizer = torch.optim.Adam(net.parameters(), lr=0.0005)\n",
    "criterion = nn.CrossEntropyLoss().to(device)"
   ]
  },
  {
   "cell_type": "code",
   "execution_count": 76,
   "metadata": {
    "ExecuteTime": {
     "end_time": "2021-07-15T09:52:05.866665Z",
     "start_time": "2021-07-15T09:51:50.402664Z"
    }
   },
   "outputs": [
    {
     "name": "stdout",
     "output_type": "stream",
     "text": [
      "Epoch 0, Cost = 0.02129351533949375\n",
      "Epoch 1, Cost = 0.0\n",
      "Epoch 2, Cost = 0.0\n",
      "learning finish\n"
     ]
    }
   ],
   "source": [
    "#training\n",
    "total_batch = len(data_loader)\n",
    "\n",
    "epochs = 3\n",
    "for epoch in range(epochs):\n",
    "    avg_cost=0\n",
    "    \n",
    "    for num, data in enumerate(data_loader):\n",
    "        imgs, labels = data\n",
    "        imgs = imgs.to(device)\n",
    "        labels = labels.to(device)\n",
    "\n",
    "        \n",
    "        prediction = net(imgs)\n",
    "        cost = criterion(prediction,labels)\n",
    "        \n",
    "        optimizer.zero_grad()\n",
    "        cost.backward()\n",
    "        optimizer.step()\n",
    "        \n",
    "        avg_cost += cost/total_batch\n",
    "    print(f'Epoch {epoch}, Cost = {avg_cost}')\n",
    "    \n",
    "print('learning finish')"
   ]
  },
  {
   "cell_type": "code",
   "execution_count": 77,
   "metadata": {
    "ExecuteTime": {
     "end_time": "2021-07-15T09:52:13.704819Z",
     "start_time": "2021-07-15T09:52:13.682822Z"
    }
   },
   "outputs": [],
   "source": [
    "torch.save(net.state_dict(), './train_data/model.pth')"
   ]
  },
  {
   "cell_type": "code",
   "execution_count": 78,
   "metadata": {
    "ExecuteTime": {
     "end_time": "2021-07-15T09:52:14.054245Z",
     "start_time": "2021-07-15T09:52:14.035249Z"
    }
   },
   "outputs": [],
   "source": [
    "new_net = CNN().to(device)"
   ]
  },
  {
   "cell_type": "code",
   "execution_count": 79,
   "metadata": {
    "ExecuteTime": {
     "end_time": "2021-07-15T09:52:14.395976Z",
     "start_time": "2021-07-15T09:52:14.370936Z"
    }
   },
   "outputs": [
    {
     "data": {
      "text/plain": [
       "<All keys matched successfully>"
      ]
     },
     "execution_count": 79,
     "metadata": {},
     "output_type": "execute_result"
    }
   ],
   "source": [
    "#불필요한 학습 제거\n",
    "new_net.load_state_dict(torch.load('./train_data/model.pth'))"
   ]
  },
  {
   "cell_type": "code",
   "execution_count": 80,
   "metadata": {
    "ExecuteTime": {
     "end_time": "2021-07-15T09:52:14.726891Z",
     "start_time": "2021-07-15T09:52:14.713886Z"
    }
   },
   "outputs": [
    {
     "name": "stdout",
     "output_type": "stream",
     "text": [
      "Conv2d(3, 6, kernel_size=(5, 5), stride=(1, 1))\n",
      "Conv2d(3, 6, kernel_size=(5, 5), stride=(1, 1))\n",
      "tensor([ 0.0053, -0.1015, -0.0810,  0.1052,  0.0289], grad_fn=<SelectBackward>)\n",
      "tensor([ 0.0053, -0.1015, -0.0810,  0.1052,  0.0289], grad_fn=<SelectBackward>)\n"
     ]
    }
   ],
   "source": [
    "print(net.layer1[0])\n",
    "print(new_net.layer1[0])\n",
    "\n",
    "print(net.layer1[0].weight[0][0][0])\n",
    "print(new_net.layer1[0].weight[0][0][0])"
   ]
  },
  {
   "cell_type": "code",
   "execution_count": 81,
   "metadata": {
    "ExecuteTime": {
     "end_time": "2021-07-15T09:52:15.127627Z",
     "start_time": "2021-07-15T09:52:15.110663Z"
    }
   },
   "outputs": [],
   "source": [
    "trans = transforms.Compose([\n",
    "    transforms.Resize((64,128)),\n",
    "    transforms.ToTensor()\n",
    "])\n",
    "\n",
    "test_data = torchvision.datasets.ImageFolder(root=\"test_data\", transform=trans)"
   ]
  },
  {
   "cell_type": "code",
   "execution_count": 82,
   "metadata": {
    "ExecuteTime": {
     "end_time": "2021-07-15T09:52:15.473377Z",
     "start_time": "2021-07-15T09:52:15.465371Z"
    }
   },
   "outputs": [],
   "source": [
    "test_set = DataLoader(dataset=test_data, batch_size=len(test_data))"
   ]
  },
  {
   "cell_type": "code",
   "execution_count": 84,
   "metadata": {
    "ExecuteTime": {
     "end_time": "2021-07-15T09:52:54.429024Z",
     "start_time": "2021-07-15T09:52:50.811035Z"
    }
   },
   "outputs": [
    {
     "name": "stdout",
     "output_type": "stream",
     "text": [
      "acc:  0.41999998688697815\n"
     ]
    }
   ],
   "source": [
    "with torch.no_grad():\n",
    "    for num, data in enumerate(test_set):\n",
    "        imgs, labels = data\n",
    "        imgs = imgs.to(device)\n",
    "        labels = labels.to(device)\n",
    "        \n",
    "        prediction = net(imgs)\n",
    "        \n",
    "        correct_prediction = torch.argmax(prediction,1) == labels\n",
    "        \n",
    "        acc = correct_prediction.float().mean()\n",
    "        print('acc: ',acc.item())"
   ]
  },
  {
   "cell_type": "code",
   "execution_count": null,
   "metadata": {},
   "outputs": [],
   "source": []
  }
 ],
 "metadata": {
  "kernelspec": {
   "display_name": "Python 3",
   "language": "python",
   "name": "python3"
  },
  "language_info": {
   "codemirror_mode": {
    "name": "ipython",
    "version": 3
   },
   "file_extension": ".py",
   "mimetype": "text/x-python",
   "name": "python",
   "nbconvert_exporter": "python",
   "pygments_lexer": "ipython3",
   "version": "3.8.5"
  }
 },
 "nbformat": 4,
 "nbformat_minor": 4
}
