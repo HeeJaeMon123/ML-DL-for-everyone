{
  "nbformat": 4,
  "nbformat_minor": 0,
  "metadata": {
    "colab": {
      "name": "simpleRNN.ipynb",
      "provenance": []
    },
    "kernelspec": {
      "name": "python3",
      "display_name": "Python 3"
    },
    "language_info": {
      "name": "python"
    }
  },
  "cells": [
    {
      "cell_type": "code",
      "metadata": {
        "id": "QEuM18cEEAHr"
      },
      "source": [
        "import torch\n",
        "import torch.nn as nn"
      ],
      "execution_count": 1,
      "outputs": []
    },
    {
      "cell_type": "code",
      "metadata": {
        "id": "X-iB9w7KJbhA"
      },
      "source": [
        "input_size = 5\n",
        "hidden_size = 8"
      ],
      "execution_count": 2,
      "outputs": []
    },
    {
      "cell_type": "code",
      "metadata": {
        "id": "caY-DlKbO1VP"
      },
      "source": [
        "inputs = torch.Tensor(1,10,5)"
      ],
      "execution_count": 3,
      "outputs": []
    },
    {
      "cell_type": "code",
      "metadata": {
        "id": "wh3DgmhQO53N"
      },
      "source": [
        "cell = nn.RNN(input_size, hidden_size, batch_first=True)"
      ],
      "execution_count": 4,
      "outputs": []
    },
    {
      "cell_type": "code",
      "metadata": {
        "id": "ZYLdtv8fO9w-"
      },
      "source": [
        "outputs, _status = cell(inputs)"
      ],
      "execution_count": 5,
      "outputs": []
    },
    {
      "cell_type": "code",
      "metadata": {
        "colab": {
          "base_uri": "https://localhost:8080/"
        },
        "id": "SzkSRYAyPBP5",
        "outputId": "8c0ccc84-66a0-4371-9741-8ee6c66253c0"
      },
      "source": [
        "print(outputs.shape)"
      ],
      "execution_count": 6,
      "outputs": [
        {
          "output_type": "stream",
          "text": [
            "torch.Size([1, 10, 8])\n"
          ],
          "name": "stdout"
        }
      ]
    },
    {
      "cell_type": "code",
      "metadata": {
        "colab": {
          "base_uri": "https://localhost:8080/"
        },
        "id": "tdE0ndr-PPo2",
        "outputId": "47ab2b53-2785-4591-9308-d7ae0b012c04"
      },
      "source": [
        "print(outputs)"
      ],
      "execution_count": 7,
      "outputs": [
        {
          "output_type": "stream",
          "text": [
            "tensor([[[-0.2985,  0.3168, -0.0427, -0.4266,  0.0092, -0.2085, -0.0138,\n",
            "          -0.0740],\n",
            "         [ 0.0304,  0.2660, -0.2100, -0.2240,  0.1528, -0.2700,  0.1026,\n",
            "           0.0520],\n",
            "         [-0.1066,  0.4430, -0.1094, -0.2017,  0.0866, -0.2067,  0.0356,\n",
            "           0.0128],\n",
            "         [-0.0384,  0.3885, -0.1875, -0.2189,  0.1125, -0.2296,  0.0503,\n",
            "           0.0290],\n",
            "         [-0.0637,  0.4173, -0.1774, -0.2026,  0.0953, -0.2291,  0.0239,\n",
            "           0.0146],\n",
            "         [-0.0510,  0.4082, -0.1882, -0.2077,  0.0943, -0.2326,  0.0243,\n",
            "           0.0086],\n",
            "         [-0.0542,  0.4121, -0.1863, -0.2027,  0.0915, -0.2327,  0.0187,\n",
            "           0.0063],\n",
            "         [-0.0533,  0.4107, -0.1873, -0.2045,  0.0906, -0.2329,  0.0184,\n",
            "           0.0046],\n",
            "         [-0.0533,  0.4105, -0.1873, -0.2037,  0.0905, -0.2331,  0.0177,\n",
            "           0.0045],\n",
            "         [-0.0535,  0.4105, -0.1872, -0.2041,  0.0902, -0.2331,  0.0176,\n",
            "           0.0041]]], grad_fn=<TransposeBackward1>)\n"
          ],
          "name": "stdout"
        }
      ]
    },
    {
      "cell_type": "code",
      "metadata": {
        "colab": {
          "base_uri": "https://localhost:8080/"
        },
        "id": "wBVjAIKHPUMu",
        "outputId": "d7a316e0-091a-4277-c5f0-dffe3e049a73"
      },
      "source": [
        "print(_status)"
      ],
      "execution_count": 9,
      "outputs": [
        {
          "output_type": "stream",
          "text": [
            "tensor([[[-0.0535,  0.4105, -0.1872, -0.2041,  0.0902, -0.2331,  0.0176,\n",
            "           0.0041]]], grad_fn=<StackBackward>)\n"
          ],
          "name": "stdout"
        }
      ]
    },
    {
      "cell_type": "code",
      "metadata": {
        "id": "GFZp3rEXPcme"
      },
      "source": [
        "cell = nn.RNN(input_size = 5, hidden_size = 8, num_layers = 2, batch_first=True)"
      ],
      "execution_count": 10,
      "outputs": []
    },
    {
      "cell_type": "code",
      "metadata": {
        "id": "a3zq09puQcYh"
      },
      "source": [
        "outputs, _status = cell(inputs)"
      ],
      "execution_count": 11,
      "outputs": []
    },
    {
      "cell_type": "code",
      "metadata": {
        "colab": {
          "base_uri": "https://localhost:8080/"
        },
        "id": "qj6b8wrTQe9n",
        "outputId": "b1b5366a-142c-4a47-a59e-5458473a539c"
      },
      "source": [
        "print(outputs)"
      ],
      "execution_count": 12,
      "outputs": [
        {
          "output_type": "stream",
          "text": [
            "tensor([[[ 0.3047,  0.0771, -0.4687, -0.0850, -0.3373, -0.5497, -0.1083,\n",
            "          -0.0773],\n",
            "         [ 0.4033,  0.0250, -0.5381,  0.0302, -0.5289, -0.6673, -0.1843,\n",
            "          -0.2691],\n",
            "         [ 0.4577,  0.0503, -0.4605,  0.0639, -0.6410, -0.6416, -0.2135,\n",
            "          -0.3317],\n",
            "         [ 0.4583,  0.0859, -0.4357,  0.0861, -0.6843, -0.5947, -0.2502,\n",
            "          -0.3656],\n",
            "         [ 0.4672,  0.0930, -0.4178,  0.0782, -0.7021, -0.5662, -0.2355,\n",
            "          -0.3802],\n",
            "         [ 0.4548,  0.1045, -0.4156,  0.0788, -0.7103, -0.5535, -0.2472,\n",
            "          -0.3795],\n",
            "         [ 0.4591,  0.0994, -0.4182,  0.0797, -0.7132, -0.5468, -0.2405,\n",
            "          -0.3840],\n",
            "         [ 0.4566,  0.1047, -0.4173,  0.0766, -0.7146, -0.5466, -0.2451,\n",
            "          -0.3816],\n",
            "         [ 0.4578,  0.1018, -0.4191,  0.0778, -0.7150, -0.5455, -0.2419,\n",
            "          -0.3838],\n",
            "         [ 0.4569,  0.1037, -0.4186,  0.0770, -0.7153, -0.5460, -0.2439,\n",
            "          -0.3826]]], grad_fn=<TransposeBackward1>)\n"
          ],
          "name": "stdout"
        }
      ]
    },
    {
      "cell_type": "code",
      "metadata": {
        "colab": {
          "base_uri": "https://localhost:8080/"
        },
        "id": "y2yYgbAHQgnH",
        "outputId": "a5a42011-f75d-4887-aec3-9dd4b855785d"
      },
      "source": [
        "print(_status)"
      ],
      "execution_count": 13,
      "outputs": [
        {
          "output_type": "stream",
          "text": [
            "tensor([[[-0.2664,  0.4724,  0.6057, -0.4442,  0.5747,  0.6582,  0.2920,\n",
            "           0.0889]],\n",
            "\n",
            "        [[ 0.4569,  0.1037, -0.4186,  0.0770, -0.7153, -0.5460, -0.2439,\n",
            "          -0.3826]]], grad_fn=<StackBackward>)\n"
          ],
          "name": "stdout"
        }
      ]
    },
    {
      "cell_type": "code",
      "metadata": {
        "id": "0nWY2RsdQj2e"
      },
      "source": [
        ""
      ],
      "execution_count": null,
      "outputs": []
    }
  ]
}