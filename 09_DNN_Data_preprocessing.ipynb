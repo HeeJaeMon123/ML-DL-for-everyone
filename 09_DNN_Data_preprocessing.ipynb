{
  "nbformat": 4,
  "nbformat_minor": 0,
  "metadata": {
    "colab": {
      "name": "DNN_Approach.ipynb",
      "provenance": [],
      "collapsed_sections": []
    },
    "kernelspec": {
      "name": "python3",
      "display_name": "Python 3"
    },
    "language_info": {
      "name": "python"
    }
  },
  "cells": [
    {
      "cell_type": "code",
      "metadata": {
        "id": "AHdYv8MAp3L_"
      },
      "source": [
        "import torch\n",
        "import torch.nn as nn\n",
        "import torch.nn.functional as F"
      ],
      "execution_count": 13,
      "outputs": []
    },
    {
      "cell_type": "code",
      "metadata": {
        "colab": {
          "base_uri": "https://localhost:8080/"
        },
        "id": "lv6F7JhlqJdi",
        "outputId": "1060df00-a760-467d-aa87-ee482c90fd98"
      },
      "source": [
        "torch.manual_seed(1)"
      ],
      "execution_count": 2,
      "outputs": [
        {
          "output_type": "execute_result",
          "data": {
            "text/plain": [
              "<torch._C.Generator at 0x7ff1c1b09ad0>"
            ]
          },
          "metadata": {
            "tags": []
          },
          "execution_count": 2
        }
      ]
    },
    {
      "cell_type": "code",
      "metadata": {
        "id": "Bk_AiGwaqL-W"
      },
      "source": [
        "x_train = [[1, 2, 1],\n",
        "           [1, 3, 2],\n",
        "           [1, 3, 4],\n",
        "           [1, 5, 5],\n",
        "           [1, 7, 5],\n",
        "           [1, 2, 5],\n",
        "           [1, 6, 6],\n",
        "           [1, 7, 7]]\n",
        "y_train = [2, 2, 2, 1, 1, 1, 0, 0]\n",
        "x_train = torch.FloatTensor(x_train)\n",
        "y_train = torch.LongTensor(y_train)"
      ],
      "execution_count": 25,
      "outputs": []
    },
    {
      "cell_type": "code",
      "metadata": {
        "id": "ivncFKQ-qkZt"
      },
      "source": [
        "x_test = torch.FloatTensor([[2,1,1],[3,1,2],[3,3,4]])\n",
        "y_test = torch.LongTensor([2,2,2])"
      ],
      "execution_count": 27,
      "outputs": []
    },
    {
      "cell_type": "code",
      "metadata": {
        "colab": {
          "base_uri": "https://localhost:8080/"
        },
        "id": "05_XNBxsquaE",
        "outputId": "83960c39-8150-4b5e-b57d-2760f5abc89a"
      },
      "source": [
        "t = torch.FloatTensor([[1,2],[3,4]])\n",
        "print(t.max(1))"
      ],
      "execution_count": 18,
      "outputs": [
        {
          "output_type": "stream",
          "text": [
            "torch.return_types.max(\n",
            "values=tensor([2., 4.]),\n",
            "indices=tensor([1, 1]))\n"
          ],
          "name": "stdout"
        }
      ]
    },
    {
      "cell_type": "code",
      "metadata": {
        "id": "nJnZooQ6uYb0"
      },
      "source": [
        "class SoftmaxClassifier(nn.Module):\n",
        "  def __init__(self):\n",
        "    super().__init__()\n",
        "    self.linear = nn.Linear(3,3)\n",
        "  def forward(self, x):\n",
        "    return self.linear(x)"
      ],
      "execution_count": 19,
      "outputs": []
    },
    {
      "cell_type": "code",
      "metadata": {
        "id": "sNhr3An86ql9"
      },
      "source": [
        "model = SoftmaxClassifier()"
      ],
      "execution_count": 20,
      "outputs": []
    },
    {
      "cell_type": "code",
      "metadata": {
        "id": "MljgVR-D6smb"
      },
      "source": [
        "optimizer = torch.optim.SGD(model.parameters(), lr = 0.1)"
      ],
      "execution_count": 21,
      "outputs": []
    },
    {
      "cell_type": "code",
      "metadata": {
        "id": "DyYNXVN46x6U"
      },
      "source": [
        "def train(model, optimizer, x_train, y_train):\n",
        "  ep = 20\n",
        "  for epoch in range(ep+1):\n",
        "    prediction = model(x_train)\n",
        "    cost = F.cross_entropy(prediction, y_train)\n",
        "\n",
        "    optimizer.zero_grad()\n",
        "    cost.backward()\n",
        "    optimizer.step()\n",
        "\n",
        "    print(f'epoch: {epoch}/{ep} cost: {cost.item():.4f}')"
      ],
      "execution_count": 22,
      "outputs": []
    },
    {
      "cell_type": "code",
      "metadata": {
        "id": "t4aY3qRK7Sno"
      },
      "source": [
        "def test(model, optimizer, x_test, y_test):\n",
        "  prediction = model(x_test)\n",
        "  predicted_classes = prediction.max(1)[1]\n",
        "  print((predicted_classes))\n",
        "  correct = (predicted_classes == y_test).sum().item()\n",
        "  cost = F.cross_entropy(prediction, y_test)\n",
        "\n",
        "  print(f'acc: {correct/len(y_test)}% cost: {cost.item():.4f}')"
      ],
      "execution_count": 32,
      "outputs": []
    },
    {
      "cell_type": "code",
      "metadata": {
        "colab": {
          "base_uri": "https://localhost:8080/"
        },
        "id": "X_b00OhT7arj",
        "outputId": "51cf88a1-b918-4d35-ada7-a9139850c709"
      },
      "source": [
        "train(model, optimizer, x_train, y_train)"
      ],
      "execution_count": 33,
      "outputs": [
        {
          "output_type": "stream",
          "text": [
            "epoch: 0/20 cost: 0.8133\n",
            "epoch: 1/20 cost: 0.8103\n",
            "epoch: 2/20 cost: 0.8073\n",
            "epoch: 3/20 cost: 0.8044\n",
            "epoch: 4/20 cost: 0.8016\n",
            "epoch: 5/20 cost: 0.7987\n",
            "epoch: 6/20 cost: 0.7960\n",
            "epoch: 7/20 cost: 0.7932\n",
            "epoch: 8/20 cost: 0.7905\n",
            "epoch: 9/20 cost: 0.7879\n",
            "epoch: 10/20 cost: 0.7853\n",
            "epoch: 11/20 cost: 0.7827\n",
            "epoch: 12/20 cost: 0.7802\n",
            "epoch: 13/20 cost: 0.7777\n",
            "epoch: 14/20 cost: 0.7752\n",
            "epoch: 15/20 cost: 0.7728\n",
            "epoch: 16/20 cost: 0.7704\n",
            "epoch: 17/20 cost: 0.7680\n",
            "epoch: 18/20 cost: 0.7657\n",
            "epoch: 19/20 cost: 0.7634\n",
            "epoch: 20/20 cost: 0.7611\n"
          ],
          "name": "stdout"
        }
      ]
    },
    {
      "cell_type": "code",
      "metadata": {
        "colab": {
          "base_uri": "https://localhost:8080/"
        },
        "id": "pEl6mI5S7017",
        "outputId": "034197e5-ea72-469e-c982-f76050a5972b"
      },
      "source": [
        "test(model, optimizer, x_test, y_test)"
      ],
      "execution_count": 34,
      "outputs": [
        {
          "output_type": "stream",
          "text": [
            "tensor([2, 2, 2])\n",
            "acc: 1.0% cost: 0.1034\n"
          ],
          "name": "stdout"
        }
      ]
    },
    {
      "cell_type": "markdown",
      "metadata": {
        "id": "Sgwvsar181nP"
      },
      "source": [
        "# Data Preprocessing"
      ]
    },
    {
      "cell_type": "code",
      "metadata": {
        "id": "r8dD30MN8Kpu"
      },
      "source": [
        "x_train  =  torch.FloatTensor([[73,  80,  75], \n",
        "                               [93,  88,  93], \n",
        "                               [89,  91,  80], \n",
        "                               [96,  98,  100],   \n",
        "                               [73,  66,  70]])  \n",
        "y_train  =  torch.FloatTensor([[152],  [185],  [180],  [196],  [142]])"
      ],
      "execution_count": 35,
      "outputs": []
    },
    {
      "cell_type": "code",
      "metadata": {
        "colab": {
          "base_uri": "https://localhost:8080/"
        },
        "id": "eEl5hSDR9AX7",
        "outputId": "6e49fe50-dbd3-4996-ba6f-708ba9dc6b7c"
      },
      "source": [
        "mu = x_train.mean(dim=0)\n",
        "mu"
      ],
      "execution_count": 36,
      "outputs": [
        {
          "output_type": "execute_result",
          "data": {
            "text/plain": [
              "tensor([84.8000, 84.6000, 83.6000])"
            ]
          },
          "metadata": {
            "tags": []
          },
          "execution_count": 36
        }
      ]
    },
    {
      "cell_type": "code",
      "metadata": {
        "colab": {
          "base_uri": "https://localhost:8080/"
        },
        "id": "GVgqz1_x_aXD",
        "outputId": "5cff5b0d-1d77-4551-b65b-6e2cfceb009f"
      },
      "source": [
        "sigma = x_train.std(dim=0)\n",
        "sigma"
      ],
      "execution_count": 37,
      "outputs": [
        {
          "output_type": "execute_result",
          "data": {
            "text/plain": [
              "tensor([11.0544, 12.2393, 12.5419])"
            ]
          },
          "metadata": {
            "tags": []
          },
          "execution_count": 37
        }
      ]
    },
    {
      "cell_type": "code",
      "metadata": {
        "id": "axL9q2_h_mf7"
      },
      "source": [
        "norm_x_train = (x_train-mu)/sigma"
      ],
      "execution_count": 38,
      "outputs": []
    },
    {
      "cell_type": "code",
      "metadata": {
        "colab": {
          "base_uri": "https://localhost:8080/"
        },
        "id": "19vWf7ov_q9T",
        "outputId": "f74802ee-c6cb-4283-9490-217c812e72b2"
      },
      "source": [
        "print(norm_x_train)"
      ],
      "execution_count": 39,
      "outputs": [
        {
          "output_type": "stream",
          "text": [
            "tensor([[-1.0674, -0.3758, -0.6857],\n",
            "        [ 0.7418,  0.2778,  0.7495],\n",
            "        [ 0.3799,  0.5229, -0.2870],\n",
            "        [ 1.0132,  1.0948,  1.3076],\n",
            "        [-1.0674, -1.5197, -1.0844]])\n"
          ],
          "name": "stdout"
        }
      ]
    },
    {
      "cell_type": "code",
      "metadata": {
        "id": "yMSuFqeM_saz"
      },
      "source": [
        "def train(model, optimizer, x_train, y_train):\n",
        "  ep = 20\n",
        "  for epoch in range(ep+1):\n",
        "    prediction = model(x_train)\n",
        "    cost = F.mse_loss(prediction, y_train)  #regression\n",
        "\n",
        "    optimizer.zero_grad()\n",
        "    cost.backward()\n",
        "    optimizer.step()\n",
        "\n",
        "    print(f'epoch: {epoch}/{ep} cost: {cost.item():.4f}')"
      ],
      "execution_count": 50,
      "outputs": []
    },
    {
      "cell_type": "code",
      "metadata": {
        "id": "r_TPY0oiACyC"
      },
      "source": [
        "class MultivariateLinearRegressionModel(nn.Module):\n",
        "  def __init__(self):\n",
        "    super().__init__()\n",
        "    self.linear = nn.Linear(3,1)\n",
        "  def forward(self,x):\n",
        "    return self.linear(x)"
      ],
      "execution_count": 51,
      "outputs": []
    },
    {
      "cell_type": "code",
      "metadata": {
        "id": "71Ux9KlVAVdx"
      },
      "source": [
        "model = MultivariateLinearRegressionModel()\n",
        "optimizer = torch.optim.SGD(model.parameters(), lr=0.1)"
      ],
      "execution_count": 52,
      "outputs": []
    },
    {
      "cell_type": "code",
      "metadata": {
        "colab": {
          "base_uri": "https://localhost:8080/"
        },
        "id": "yDetEXxu_0NL",
        "outputId": "9849ae4c-e3e3-4753-af3a-d1feece07476"
      },
      "source": [
        "train(model, optimizer, norm_x_train, y_train)"
      ],
      "execution_count": 53,
      "outputs": [
        {
          "output_type": "stream",
          "text": [
            "epoch: 0/20 cost: 29780.7461\n",
            "epoch: 1/20 cost: 18916.3164\n",
            "epoch: 2/20 cost: 12062.8711\n",
            "epoch: 3/20 cost: 7707.6470\n",
            "epoch: 4/20 cost: 4929.9023\n",
            "epoch: 5/20 cost: 3155.1011\n",
            "epoch: 6/20 cost: 2020.1207\n",
            "epoch: 7/20 cost: 1293.9847\n",
            "epoch: 8/20 cost: 829.3112\n",
            "epoch: 9/20 cost: 531.9131\n",
            "epoch: 10/20 cost: 341.5529\n",
            "epoch: 11/20 cost: 219.6921\n",
            "epoch: 12/20 cost: 141.6700\n",
            "epoch: 13/20 cost: 91.7052\n",
            "epoch: 14/20 cost: 59.6978\n",
            "epoch: 15/20 cost: 39.1842\n",
            "epoch: 16/20 cost: 26.0274\n",
            "epoch: 17/20 cost: 17.5798\n",
            "epoch: 18/20 cost: 12.1469\n",
            "epoch: 19/20 cost: 8.6445\n",
            "epoch: 20/20 cost: 6.3782\n"
          ],
          "name": "stdout"
        }
      ]
    },
    {
      "cell_type": "code",
      "metadata": {
        "id": "_wDx3Dt3_5Iy"
      },
      "source": [
        ""
      ],
      "execution_count": null,
      "outputs": []
    }
  ]
}
