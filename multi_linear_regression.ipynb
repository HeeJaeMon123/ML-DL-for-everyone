{
  "nbformat": 4,
  "nbformat_minor": 0,
  "metadata": {
    "colab": {
      "name": "multi_linear_regression.ipynb",
      "provenance": [],
      "collapsed_sections": []
    },
    "kernelspec": {
      "name": "python3",
      "display_name": "Python 3"
    },
    "language_info": {
      "name": "python"
    }
  },
  "cells": [
    {
      "cell_type": "code",
      "metadata": {
        "colab": {
          "base_uri": "https://localhost:8080/"
        },
        "id": "OpOJmSvHQA-K",
        "outputId": "1b35487f-72ff-4e40-dc98-02603950129a"
      },
      "source": [
        "import torch\n",
        "import torch.nn as nn\n",
        "import torch.nn.functional as F\n",
        "\n",
        "class MultivariateLinearRegressionModel(nn.Module):\n",
        "  def __init__(self):\n",
        "    super().__init__()\n",
        "    self.linear = nn.Linear(3,1)\n",
        "\n",
        "  def forward(self,x):\n",
        "    # print(1)\n",
        "    return self.linear(x)\n",
        "\n",
        "\n",
        "x_train = torch.FloatTensor([[73,80,75],\n",
        "                             [93,88,93],\n",
        "                             [89,91,90],\n",
        "                             [96,98,100],\n",
        "                             [73,66,70]])\n",
        "y_train = torch.FloatTensor([[152],[185],[180],[196], [142]])\n",
        "\n",
        "model = MultivariateLinearRegressionModel()\n",
        "\n",
        "optimizer = torch.optim.SGD(model.parameters(), lr = 1e-5)\n",
        "# print(222)\n",
        "ep = 2000\n",
        "for epoch in range(ep+1):\n",
        "   hypothesis = model(x_train)\n",
        "   \n",
        "   cost = F.mse_loss(hypothesis, y_train)\n",
        "   if epoch % 100 == 0:\n",
        "     print('Epoch {:4d}/{} Cost: {:.6f}'.format(\n",
        "        epoch, 2000, cost.item()\n",
        "    ))\n",
        "   optimizer.zero_grad()\n",
        "   cost.backward()\n",
        "   optimizer.step()\n"
      ],
      "execution_count": 163,
      "outputs": [
        {
          "output_type": "stream",
          "text": [
            "Epoch    0/2000 Cost: 39050.164062\n",
            "Epoch  100/2000 Cost: 0.969672\n",
            "Epoch  200/2000 Cost: 0.930162\n",
            "Epoch  300/2000 Cost: 0.892737\n",
            "Epoch  400/2000 Cost: 0.857271\n",
            "Epoch  500/2000 Cost: 0.823663\n",
            "Epoch  600/2000 Cost: 0.791835\n",
            "Epoch  700/2000 Cost: 0.761655\n",
            "Epoch  800/2000 Cost: 0.733078\n",
            "Epoch  900/2000 Cost: 0.705974\n",
            "Epoch 1000/2000 Cost: 0.680304\n",
            "Epoch 1100/2000 Cost: 0.655981\n",
            "Epoch 1200/2000 Cost: 0.632921\n",
            "Epoch 1300/2000 Cost: 0.611080\n",
            "Epoch 1400/2000 Cost: 0.590378\n",
            "Epoch 1500/2000 Cost: 0.570754\n",
            "Epoch 1600/2000 Cost: 0.552153\n",
            "Epoch 1700/2000 Cost: 0.534532\n",
            "Epoch 1800/2000 Cost: 0.517818\n",
            "Epoch 1900/2000 Cost: 0.501984\n",
            "Epoch 2000/2000 Cost: 0.486975\n"
          ],
          "name": "stdout"
        }
      ]
    },
    {
      "cell_type": "code",
      "metadata": {
        "id": "L8U7dJ3ObSj8"
      },
      "source": [
        ""
      ],
      "execution_count": null,
      "outputs": []
    }
  ]
}