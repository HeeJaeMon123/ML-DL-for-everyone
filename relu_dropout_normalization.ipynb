{
  "nbformat": 4,
  "nbformat_minor": 0,
  "metadata": {
    "colab": {
      "name": "relu_dropout_normalization.ipynb",
      "provenance": [],
      "collapsed_sections": []
    },
    "kernelspec": {
      "name": "python3",
      "display_name": "Python 3"
    },
    "language_info": {
      "name": "python"
    },
    "accelerator": "GPU"
  },
  "cells": [
    {
      "cell_type": "code",
      "metadata": {
        "id": "xuLMt5uoPnRL"
      },
      "source": [
        "import torch\n",
        "import torch.nn as nn\n",
        "import torch.nn.functional as F"
      ],
      "execution_count": 43,
      "outputs": []
    },
    {
      "cell_type": "code",
      "metadata": {
        "id": "6bDoFkLeiUN_"
      },
      "source": [
        "import torchvision.datasets as dsets\n",
        "import torchvision.transforms as transforms\n",
        "\n",
        "mnist_train = dsets.MNIST(root=\"MNIST_data/\", train=True, transform=transforms.ToTensor(), download=True)\n",
        "mnist_test = dsets.MNIST(root=\"MNIST_data/\", train=False, transform=transforms.ToTensor(), download=True)\n",
        "\n",
        "data_loader = torch.utils.data.DataLoader(dataset=mnist_train, batch_size = 100, shuffle = True, drop_last=True)\n",
        "\n",
        "learning_rate = 0.001\n",
        "training_epochs=15\n"
      ],
      "execution_count": 44,
      "outputs": []
    },
    {
      "cell_type": "code",
      "metadata": {
        "colab": {
          "base_uri": "https://localhost:8080/"
        },
        "id": "sh4Mps0_t0yw",
        "outputId": "bcab6336-541a-4529-b698-c7f0388fb088"
      },
      "source": [
        "\n",
        "cuda = torch.cuda.is_available()\n",
        "device = torch.device(\"cuda\" if cuda else \"cpu\")\n",
        "print(device)"
      ],
      "execution_count": 45,
      "outputs": [
        {
          "output_type": "stream",
          "text": [
            "cuda\n"
          ],
          "name": "stdout"
        }
      ]
    },
    {
      "cell_type": "code",
      "metadata": {
        "id": "CdnIVltouljt"
      },
      "source": [
        "linear1 = nn.Linear(784,256,bias=True).to(device)\n",
        "linear2 = nn.Linear(256,256,bias=True).to(device)\n",
        "linear3 = nn.Linear(256,10,bias=True).to(device)\n",
        "relu = nn.ReLU()\n",
        "\n",
        "nn.init.normal_(linear1.weight)\n",
        "nn.init.normal_(linear2.weight)\n",
        "nn.init.normal_(linear3.weight)\n",
        "\n",
        "model = nn.Sequential(linear1, relu, linear2, relu, linear3)\n",
        "\n",
        "criterion = nn.CrossEntropyLoss().to(device)\n",
        "optimizer = torch.optim.Adam(model.parameters(), lr=learning_rate)"
      ],
      "execution_count": 46,
      "outputs": []
    },
    {
      "cell_type": "code",
      "metadata": {
        "colab": {
          "base_uri": "https://localhost:8080/"
        },
        "id": "ZuX5W8J5wMxp",
        "outputId": "a7cc08f0-99ac-4099-f52f-786f58b8d4b2"
      },
      "source": [
        "total_batch = len(data_loader)\n",
        "total_batch"
      ],
      "execution_count": 47,
      "outputs": [
        {
          "output_type": "execute_result",
          "data": {
            "text/plain": [
              "600"
            ]
          },
          "metadata": {
            "tags": []
          },
          "execution_count": 47
        }
      ]
    },
    {
      "cell_type": "code",
      "metadata": {
        "colab": {
          "base_uri": "https://localhost:8080/"
        },
        "id": "qZQe_L8wwmRh",
        "outputId": "ff6df6df-8be5-48c6-c334-1733ed37665e"
      },
      "source": [
        "len(mnist_train)"
      ],
      "execution_count": 48,
      "outputs": [
        {
          "output_type": "execute_result",
          "data": {
            "text/plain": [
              "60000"
            ]
          },
          "metadata": {
            "tags": []
          },
          "execution_count": 48
        }
      ]
    },
    {
      "cell_type": "code",
      "metadata": {
        "colab": {
          "base_uri": "https://localhost:8080/"
        },
        "id": "AQsLT43RwrqF",
        "outputId": "127196fe-9e12-4199-da07-bc313ef11628"
      },
      "source": [
        "for epoch in range(training_epochs):\n",
        "  avg_cost=0\n",
        "  for X,y in data_loader:\n",
        "    X=X.view(-1,28*28).to(device)\n",
        "    hypothesis = model(X)\n",
        "    y = y.to(device)\n",
        "    cost=criterion(hypothesis, y)\n",
        "    optimizer.zero_grad()\n",
        "    cost.backward()\n",
        "    optimizer.step()\n",
        "    avg_cost += cost/total_batch\n",
        "  print(f'epoch: {epoch+1:04d}, cost: {avg_cost:.9f}')"
      ],
      "execution_count": 49,
      "outputs": [
        {
          "output_type": "stream",
          "text": [
            "epoch: 0001, cost: 134.919097900\n",
            "epoch: 0002, cost: 34.796195984\n",
            "epoch: 0003, cost: 21.408962250\n",
            "epoch: 0004, cost: 14.904853821\n",
            "epoch: 0005, cost: 10.834650993\n",
            "epoch: 0006, cost: 8.049036980\n",
            "epoch: 0007, cost: 6.074109077\n",
            "epoch: 0008, cost: 4.601957798\n",
            "epoch: 0009, cost: 3.459908962\n",
            "epoch: 0010, cost: 2.565858841\n",
            "epoch: 0011, cost: 2.038970232\n",
            "epoch: 0012, cost: 1.483794093\n",
            "epoch: 0013, cost: 1.131309986\n",
            "epoch: 0014, cost: 0.928988159\n",
            "epoch: 0015, cost: 0.790462732\n"
          ],
          "name": "stdout"
        }
      ]
    },
    {
      "cell_type": "markdown",
      "metadata": {
        "id": "aOYmbecX3WUe"
      },
      "source": [
        "# weight 초기화"
      ]
    },
    {
      "cell_type": "code",
      "metadata": {
        "id": "lPEagGZByd9u"
      },
      "source": [
        "linear1 = nn.Linear(784,256,bias=True).to(device)\n",
        "linear2 = nn.Linear(256,256,bias=True).to(device)\n",
        "linear3 = nn.Linear(256,10,bias=True).to(device)\n",
        "relu = nn.ReLU()\n",
        "\n",
        "nn.init.xavier_uniform_(linear1.weight)\n",
        "nn.init.xavier_uniform_(linear2.weight)\n",
        "nn.init.xavier_uniform_(linear3.weight)\n",
        "\n",
        "model = nn.Sequential(linear1, relu, linear2, relu, linear3).to(device)\n",
        "\n",
        "criterion = nn.CrossEntropyLoss().to(device)\n",
        "optimizer = torch.optim.Adam(model.parameters(), lr=learning_rate)"
      ],
      "execution_count": 54,
      "outputs": []
    },
    {
      "cell_type": "code",
      "metadata": {
        "colab": {
          "base_uri": "https://localhost:8080/"
        },
        "id": "-wLvI3M3JI7W",
        "outputId": "f2a3b089-d4f8-4ac5-9486-df4b3e939740"
      },
      "source": [
        "linear1.weight"
      ],
      "execution_count": 55,
      "outputs": [
        {
          "output_type": "execute_result",
          "data": {
            "text/plain": [
              "Parameter containing:\n",
              "tensor([[ 0.0403,  0.0759, -0.0277,  ..., -0.0018, -0.0389,  0.0754],\n",
              "        [-0.0254,  0.0086, -0.0216,  ...,  0.0518,  0.0256,  0.0715],\n",
              "        [-0.0376, -0.0484,  0.0104,  ...,  0.0452, -0.0006,  0.0437],\n",
              "        ...,\n",
              "        [-0.0268,  0.0552,  0.0349,  ...,  0.0130, -0.0700, -0.0150],\n",
              "        [ 0.0092, -0.0497,  0.0274,  ...,  0.0707, -0.0240,  0.0130],\n",
              "        [ 0.0583,  0.0641, -0.0295,  ...,  0.0113,  0.0480,  0.0682]],\n",
              "       device='cuda:0', requires_grad=True)"
            ]
          },
          "metadata": {
            "tags": []
          },
          "execution_count": 55
        }
      ]
    },
    {
      "cell_type": "code",
      "metadata": {
        "colab": {
          "base_uri": "https://localhost:8080/"
        },
        "id": "eLKi7jZ4JfTc",
        "outputId": "db69d297-4fd7-447f-c0ab-852d9a08e719"
      },
      "source": [
        "for epoch in range(training_epochs):\n",
        "  avg_cost=0\n",
        "  for X,y in data_loader:\n",
        "    X=X.view(-1,28*28).to(device)\n",
        "    hypothesis = model(X)\n",
        "    y = y.to(device)\n",
        "    cost=criterion(hypothesis, y)\n",
        "    optimizer.zero_grad()\n",
        "    cost.backward()\n",
        "    optimizer.step()\n",
        "    avg_cost += cost/total_batch\n",
        "  print(f'epoch: {epoch+1:04d}, cost: {avg_cost:.9f}')"
      ],
      "execution_count": 56,
      "outputs": [
        {
          "output_type": "stream",
          "text": [
            "epoch: 0001, cost: 0.242756695\n",
            "epoch: 0002, cost: 0.092285402\n",
            "epoch: 0003, cost: 0.062039033\n",
            "epoch: 0004, cost: 0.042520743\n",
            "epoch: 0005, cost: 0.031513788\n",
            "epoch: 0006, cost: 0.028479766\n",
            "epoch: 0007, cost: 0.021315072\n",
            "epoch: 0008, cost: 0.015401734\n",
            "epoch: 0009, cost: 0.015323811\n",
            "epoch: 0010, cost: 0.013908255\n",
            "epoch: 0011, cost: 0.012902365\n",
            "epoch: 0012, cost: 0.013531565\n",
            "epoch: 0013, cost: 0.009962415\n",
            "epoch: 0014, cost: 0.013476742\n",
            "epoch: 0015, cost: 0.008597630\n"
          ],
          "name": "stdout"
        }
      ]
    },
    {
      "cell_type": "code",
      "metadata": {
        "colab": {
          "base_uri": "https://localhost:8080/"
        },
        "id": "mUx8tR1KL5J0",
        "outputId": "479bd284-1e23-4bff-c292-f998f32d2139"
      },
      "source": [
        "import random\n",
        "with torch.no_grad():\n",
        "    X_test = mnist_test.test_data.view(-1, 28 * 28).float().to(device)\n",
        "    Y_test = mnist_test.test_labels.to(device)\n",
        "\n",
        "    prediction = model(X_test)\n",
        "    correct_prediction = torch.argmax(prediction, 1) == Y_test\n",
        "    accuracy = correct_prediction.float().mean()\n",
        "    print('Accuracy:', accuracy.item())\n",
        "\n",
        "    # Get one and predict\n",
        "    r = random.randint(0, len(mnist_test) - 1)\n",
        "    X_single_data = mnist_test.test_data[r:r + 1].view(-1, 28 * 28).float().to(device)\n",
        "    Y_single_data = mnist_test.test_labels[r:r + 1].to(device)\n",
        "\n",
        "    print('Label: ', Y_single_data.item())\n",
        "    single_prediction = model(X_single_data)\n",
        "    print('Prediction: ', torch.argmax(single_prediction, 1).item())"
      ],
      "execution_count": 58,
      "outputs": [
        {
          "output_type": "stream",
          "text": [
            "Accuracy: 0.9788999557495117\n",
            "Label:  8\n",
            "Prediction:  8\n"
          ],
          "name": "stdout"
        },
        {
          "output_type": "stream",
          "text": [
            "/usr/local/lib/python3.7/dist-packages/torchvision/datasets/mnist.py:67: UserWarning: test_data has been renamed data\n",
            "  warnings.warn(\"test_data has been renamed data\")\n",
            "/usr/local/lib/python3.7/dist-packages/torchvision/datasets/mnist.py:57: UserWarning: test_labels has been renamed targets\n",
            "  warnings.warn(\"test_labels has been renamed targets\")\n"
          ],
          "name": "stderr"
        }
      ]
    },
    {
      "cell_type": "markdown",
      "metadata": {
        "id": "1-D80idPKuss"
      },
      "source": [
        "# solution for overfitting : Dropout"
      ]
    },
    {
      "cell_type": "code",
      "metadata": {
        "id": "-kN16qTnKA5k"
      },
      "source": [
        "drop_prob = 0.3"
      ],
      "execution_count": 59,
      "outputs": []
    },
    {
      "cell_type": "code",
      "metadata": {
        "id": "I3eiWvFUMQNV"
      },
      "source": [
        "linear1 = nn.Linear(784,256,bias=True).to(device)\n",
        "linear2 = nn.Linear(256,256,bias=True).to(device)\n",
        "linear3 = nn.Linear(256,10,bias=True).to(device)\n",
        "relu = nn.ReLU()\n",
        "dropout = nn.Dropout(p=drop_prob)\n",
        "\n",
        "nn.init.xavier_uniform_(linear1.weight)\n",
        "nn.init.xavier_uniform_(linear2.weight)\n",
        "nn.init.xavier_uniform_(linear3.weight)\n",
        "\n",
        "model = nn.Sequential(linear1, relu,dropout, linear2, relu,dropout, linear3).to(device)\n",
        "\n",
        "criterion = nn.CrossEntropyLoss().to(device)\n",
        "optimizer = torch.optim.Adam(model.parameters(), lr=learning_rate)"
      ],
      "execution_count": 61,
      "outputs": []
    },
    {
      "cell_type": "code",
      "metadata": {
        "colab": {
          "base_uri": "https://localhost:8080/"
        },
        "id": "yj5iusWbMTwS",
        "outputId": "5ff312eb-f9b0-47b9-a7e4-3fe046e7000e"
      },
      "source": [
        "model.train()\n",
        "for epoch in range(training_epochs):\n",
        "  avg_cost=0\n",
        "  for X,y in data_loader:\n",
        "    X=X.view(-1,28*28).to(device)\n",
        "    hypothesis = model(X)\n",
        "    y = y.to(device)\n",
        "    cost=criterion(hypothesis, y)\n",
        "    optimizer.zero_grad()\n",
        "    cost.backward()\n",
        "    optimizer.step()\n",
        "    avg_cost += cost/total_batch\n",
        "  print(f'epoch: {epoch+1:04d}, cost: {avg_cost:.9f}')"
      ],
      "execution_count": 63,
      "outputs": [
        {
          "output_type": "stream",
          "text": [
            "epoch: 0001, cost: 0.061630543\n",
            "epoch: 0002, cost: 0.057797752\n",
            "epoch: 0003, cost: 0.051700540\n",
            "epoch: 0004, cost: 0.048283633\n",
            "epoch: 0005, cost: 0.045227014\n",
            "epoch: 0006, cost: 0.044656452\n",
            "epoch: 0007, cost: 0.038138166\n",
            "epoch: 0008, cost: 0.037211888\n",
            "epoch: 0009, cost: 0.037101697\n",
            "epoch: 0010, cost: 0.033996876\n",
            "epoch: 0011, cost: 0.031392924\n",
            "epoch: 0012, cost: 0.033477139\n",
            "epoch: 0013, cost: 0.029849797\n",
            "epoch: 0014, cost: 0.031477891\n",
            "epoch: 0015, cost: 0.028862039\n"
          ],
          "name": "stdout"
        }
      ]
    },
    {
      "cell_type": "code",
      "metadata": {
        "colab": {
          "base_uri": "https://localhost:8080/"
        },
        "id": "uMlLS0XwMgXc",
        "outputId": "c8bfa6bb-5ea6-4b03-87c5-4d34857aad87"
      },
      "source": [
        "with torch.no_grad():\n",
        "    model.eval()    # set the model to evaluation mode (dropout=False)\n",
        "\n",
        "    # Test the model using test sets\n",
        "    X_test = mnist_test.test_data.view(-1, 28 * 28).float().to(device)\n",
        "    Y_test = mnist_test.test_labels.to(device)\n",
        "\n",
        "    prediction = model(X_test)\n",
        "    correct_prediction = torch.argmax(prediction, 1) == Y_test\n",
        "    accuracy = correct_prediction.float().mean()\n",
        "    print('Accuracy:', accuracy.item())\n",
        "\n",
        "    # Get one and predict\n",
        "    r = random.randint(0, len(mnist_test) - 1)\n",
        "    X_single_data = mnist_test.test_data[r:r + 1].view(-1, 28 * 28).float().to(device)\n",
        "    Y_single_data = mnist_test.test_labels[r:r + 1].to(device)\n",
        "\n",
        "    print('Label: ', Y_single_data.item())\n",
        "    single_prediction = model(X_single_data)\n",
        "    print('Prediction: ', torch.argmax(single_prediction, 1).item())"
      ],
      "execution_count": 64,
      "outputs": [
        {
          "output_type": "stream",
          "text": [
            "Accuracy: 0.9817000031471252\n",
            "Label:  3\n",
            "Prediction:  3\n"
          ],
          "name": "stdout"
        },
        {
          "output_type": "stream",
          "text": [
            "/usr/local/lib/python3.7/dist-packages/torchvision/datasets/mnist.py:67: UserWarning: test_data has been renamed data\n",
            "  warnings.warn(\"test_data has been renamed data\")\n",
            "/usr/local/lib/python3.7/dist-packages/torchvision/datasets/mnist.py:57: UserWarning: test_labels has been renamed targets\n",
            "  warnings.warn(\"test_labels has been renamed targets\")\n"
          ],
          "name": "stderr"
        }
      ]
    },
    {
      "cell_type": "code",
      "metadata": {
        "id": "5expnoHkMzFl"
      },
      "source": [
        "linear1 = nn.Linear(784,32,bias=True).to(device)\n",
        "linear2 = nn.Linear(32,32,bias=True).to(device)\n",
        "linear3 = nn.Linear(32,10,bias=True).to(device)\n",
        "relu = nn.ReLU()\n",
        "# dropout = nn.Dropout(p=drop_prob)\n",
        "bn1 = nn.BatchNorm1d(32)\n",
        "bn2 = nn.BatchNorm1d(32)\n",
        "\n",
        "\n",
        "nn.init.xavier_uniform_(linear1.weight)\n",
        "nn.init.xavier_uniform_(linear2.weight)\n",
        "nn.init.xavier_uniform_(linear3.weight)\n",
        "\n",
        "model = nn.Sequential(linear1, bn1, relu,linear2, relu, bn2, linear3).to(device)\n",
        "\n",
        "criterion = nn.CrossEntropyLoss().to(device)\n",
        "optimizer = torch.optim.Adam(model.parameters(), lr=learning_rate)"
      ],
      "execution_count": 70,
      "outputs": []
    },
    {
      "cell_type": "code",
      "metadata": {
        "colab": {
          "base_uri": "https://localhost:8080/"
        },
        "id": "Rt9WAOnlP7nP",
        "outputId": "3b2d8876-9d51-4b56-d0f2-402dcc474a3f"
      },
      "source": [
        "model.train()\n",
        "for epoch in range(training_epochs):\n",
        "  avg_cost=0\n",
        "  for X,y in data_loader:\n",
        "    X=X.view(-1,28*28).to(device)\n",
        "    hypothesis = model(X)\n",
        "    y = y.to(device)\n",
        "    cost=criterion(hypothesis, y)\n",
        "    optimizer.zero_grad()\n",
        "    cost.backward()\n",
        "    optimizer.step()\n",
        "    avg_cost += cost/total_batch\n",
        "  print(f'epoch: {epoch+1:04d}, cost: {avg_cost:.9f}')"
      ],
      "execution_count": 71,
      "outputs": [
        {
          "output_type": "stream",
          "text": [
            "epoch: 0001, cost: 0.437240452\n",
            "epoch: 0002, cost: 0.178472072\n",
            "epoch: 0003, cost: 0.136187404\n",
            "epoch: 0004, cost: 0.114239112\n",
            "epoch: 0005, cost: 0.098816007\n",
            "epoch: 0006, cost: 0.090406254\n",
            "epoch: 0007, cost: 0.083359987\n",
            "epoch: 0008, cost: 0.077698804\n",
            "epoch: 0009, cost: 0.071442246\n",
            "epoch: 0010, cost: 0.066118881\n",
            "epoch: 0011, cost: 0.063378260\n",
            "epoch: 0012, cost: 0.059494715\n",
            "epoch: 0013, cost: 0.056903966\n",
            "epoch: 0014, cost: 0.052922558\n",
            "epoch: 0015, cost: 0.051940672\n"
          ],
          "name": "stdout"
        }
      ]
    },
    {
      "cell_type": "code",
      "metadata": {
        "colab": {
          "base_uri": "https://localhost:8080/"
        },
        "id": "wJ3rsTEnQIWT",
        "outputId": "e46fe073-b039-437f-a72c-9b75b13c7973"
      },
      "source": [
        "with torch.no_grad():\n",
        "    model.eval()    # set the model to evaluation mode (dropout=False)\n",
        "\n",
        "    # Test the model using test sets\n",
        "    X_test = mnist_test.test_data.view(-1, 28 * 28).float().to(device)\n",
        "    Y_test = mnist_test.test_labels.to(device)\n",
        "\n",
        "    prediction = model(X_test)\n",
        "    correct_prediction = torch.argmax(prediction, 1) == Y_test\n",
        "    accuracy = correct_prediction.float().mean()\n",
        "    print('Accuracy:', accuracy.item())\n",
        "\n",
        "    # Get one and predict\n",
        "    r = random.randint(0, len(mnist_test) - 1)\n",
        "    X_single_data = mnist_test.test_data[r:r + 1].view(-1, 28 * 28).float().to(device)\n",
        "    Y_single_data = mnist_test.test_labels[r:r + 1].to(device)\n",
        "\n",
        "    print('Label: ', Y_single_data.item())\n",
        "    single_prediction = model(X_single_data)\n",
        "    print('Prediction: ', torch.argmax(single_prediction, 1).item())"
      ],
      "execution_count": 89,
      "outputs": [
        {
          "output_type": "stream",
          "text": [
            "Accuracy: 0.6811000108718872\n",
            "Label:  8\n",
            "Prediction:  7\n"
          ],
          "name": "stdout"
        },
        {
          "output_type": "stream",
          "text": [
            "/usr/local/lib/python3.7/dist-packages/torchvision/datasets/mnist.py:67: UserWarning: test_data has been renamed data\n",
            "  warnings.warn(\"test_data has been renamed data\")\n",
            "/usr/local/lib/python3.7/dist-packages/torchvision/datasets/mnist.py:57: UserWarning: test_labels has been renamed targets\n",
            "  warnings.warn(\"test_labels has been renamed targets\")\n"
          ],
          "name": "stderr"
        }
      ]
    },
    {
      "cell_type": "code",
      "metadata": {
        "colab": {
          "base_uri": "https://localhost:8080/"
        },
        "id": "kySca2xpQcOW",
        "outputId": "90f461d8-97ac-45f9-f31b-8f1a4df7220d"
      },
      "source": [
        "correct_prediction.shape"
      ],
      "execution_count": 74,
      "outputs": [
        {
          "output_type": "execute_result",
          "data": {
            "text/plain": [
              "torch.Size([10000])"
            ]
          },
          "metadata": {
            "tags": []
          },
          "execution_count": 74
        }
      ]
    },
    {
      "cell_type": "code",
      "metadata": {
        "colab": {
          "base_uri": "https://localhost:8080/"
        },
        "id": "x34j8ljYSI_8",
        "outputId": "26b970be-4705-4e14-c1c9-cbe85ab1ae04"
      },
      "source": [
        "Y_test.shape"
      ],
      "execution_count": 84,
      "outputs": [
        {
          "output_type": "execute_result",
          "data": {
            "text/plain": [
              "torch.Size([10000])"
            ]
          },
          "metadata": {
            "tags": []
          },
          "execution_count": 84
        }
      ]
    },
    {
      "cell_type": "code",
      "metadata": {
        "colab": {
          "base_uri": "https://localhost:8080/"
        },
        "id": "BwQKgQ1-STBT",
        "outputId": "49eb240d-4aca-4c79-9dc2-a3f0568b7334"
      },
      "source": [
        "prediction"
      ],
      "execution_count": 86,
      "outputs": [
        {
          "output_type": "execute_result",
          "data": {
            "text/plain": [
              "tensor([[  243.8239,   650.8428,  -477.4907,  ...,  2249.4023, -1879.7969,\n",
              "          -748.8295],\n",
              "        [ -736.4235,  2310.7439,  2804.8145,  ...,   466.2023, -2228.4526,\n",
              "         -2099.3091],\n",
              "        [ -755.6474,  3778.6433,   240.2356,  ...,   841.0907, -1854.3988,\n",
              "          -858.4570],\n",
              "        ...,\n",
              "        [ -218.4949,  1747.1770, -1235.7329,  ...,  1259.5645, -2456.7734,\n",
              "         -1082.5540],\n",
              "        [ -443.5300,   797.8032, -2248.0110,  ...,    39.5957, -1346.3348,\n",
              "         -1176.6896],\n",
              "        [  143.4415,    82.2598,    59.0561,  ...,  -108.8685, -2741.8887,\n",
              "         -1341.3666]], device='cuda:0')"
            ]
          },
          "metadata": {
            "tags": []
          },
          "execution_count": 86
        }
      ]
    },
    {
      "cell_type": "code",
      "metadata": {
        "colab": {
          "base_uri": "https://localhost:8080/"
        },
        "id": "abV7wObbSYEE",
        "outputId": "b282e027-e357-48c4-9475-af96d34a8214"
      },
      "source": [
        "prediction.shape"
      ],
      "execution_count": 83,
      "outputs": [
        {
          "output_type": "execute_result",
          "data": {
            "text/plain": [
              "torch.Size([10000, 10])"
            ]
          },
          "metadata": {
            "tags": []
          },
          "execution_count": 83
        }
      ]
    },
    {
      "cell_type": "code",
      "metadata": {
        "colab": {
          "base_uri": "https://localhost:8080/"
        },
        "id": "ymFp0ra-Sk7n",
        "outputId": "ae4b6260-2be1-4f75-fe3a-d6644c301e7a"
      },
      "source": [
        " torch.argmax(prediction, 1,keepdim=True)"
      ],
      "execution_count": 88,
      "outputs": [
        {
          "output_type": "execute_result",
          "data": {
            "text/plain": [
              "tensor([[7],\n",
              "        [2],\n",
              "        [1],\n",
              "        ...,\n",
              "        [4],\n",
              "        [5],\n",
              "        [6]], device='cuda:0')"
            ]
          },
          "metadata": {
            "tags": []
          },
          "execution_count": 88
        }
      ]
    },
    {
      "cell_type": "code",
      "metadata": {
        "id": "cz-l9WNNTAq1"
      },
      "source": [
        ""
      ],
      "execution_count": 87,
      "outputs": []
    }
  ]
}