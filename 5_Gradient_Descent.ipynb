{
  "nbformat": 4,
  "nbformat_minor": 0,
  "metadata": {
    "colab": {
      "name": "Gradient_Descent.ipynb",
      "provenance": [],
      "collapsed_sections": []
    },
    "kernelspec": {
      "name": "python3",
      "display_name": "Python 3"
    },
    "language_info": {
      "name": "python"
    }
  },
  "cells": [
    {
      "cell_type": "code",
      "metadata": {
        "colab": {
          "base_uri": "https://localhost:8080/"
        },
        "id": "OpOJmSvHQA-K",
        "outputId": "2a07024f-4633-4b51-c434-2e463df46af7"
      },
      "source": [
        "import torch\n",
        "\n",
        "x_train = torch.FloatTensor([[1],[2],[3]])\n",
        "y_train = torch.FloatTensor([[2],[4],[6]])\n",
        "\n",
        "W = torch.zeros(1, requires_grad=True)\n",
        "# b = torch.zeros(1, requires_grad=True)\n",
        "hypothesis = x_train*W\n",
        "\n",
        "optimizer = torch.optim.SGD([W,b], lr = 0.15)\n",
        "\n",
        "ep = 10\n",
        "for epoch in range(1, ep+1):\n",
        "   hypothesis = x_train*W\n",
        "   cost = torch.mean((hypothesis - y_train)**2)\n",
        "   print(f'Epoch {epoch:4d}/{10}   w: {W.item():.3f}   cost: {cost.item():.3f}')\n",
        "   optimizer.zero_grad()\n",
        "   cost.backward()\n",
        "   optimizer.step()\n"
      ],
      "execution_count": 151,
      "outputs": [
        {
          "output_type": "stream",
          "text": [
            "Epoch    1/10   w: 0.000   cost: 18.667\n",
            "Epoch    2/10   w: 2.800   cost: 2.987\n",
            "Epoch    3/10   w: 1.680   cost: 0.478\n",
            "Epoch    4/10   w: 2.128   cost: 0.076\n",
            "Epoch    5/10   w: 1.949   cost: 0.012\n",
            "Epoch    6/10   w: 2.020   cost: 0.002\n",
            "Epoch    7/10   w: 1.992   cost: 0.000\n",
            "Epoch    8/10   w: 2.003   cost: 0.000\n",
            "Epoch    9/10   w: 1.999   cost: 0.000\n",
            "Epoch   10/10   w: 2.001   cost: 0.000\n"
          ],
          "name": "stdout"
        }
      ]
    },
    {
      "cell_type": "code",
      "metadata": {
        "id": "L8U7dJ3ObSj8"
      },
      "source": [
        ""
      ],
      "execution_count": null,
      "outputs": []
    }
  ]
}
